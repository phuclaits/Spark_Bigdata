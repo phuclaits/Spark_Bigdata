{
 "cells": [
  {
   "cell_type": "markdown",
   "id": "aff87598",
   "metadata": {},
   "source": [
    "    # Project FullStack BigData Apache Spark , HDFS on Ubuntu (Multiple Node) by La Hoang Phuc. GVHD: Ngo Duong Ha"
   ]
  },
  {
   "cell_type": "markdown",
   "id": "dd43a29b",
   "metadata": {},
   "source": [
    "## 1. Import Lib"
   ]
  },
  {
   "cell_type": "code",
   "execution_count": null,
   "id": "efcf4982",
   "metadata": {},
   "outputs": [],
   "source": [
    "import os\n",
    "import findspark\n",
    "\n",
    "os.environ['SPARK_HOME'] = '/home/phuc03/spark'\n",
    "findspark.init()\n",
    "\n",
    "from pyspark.sql import SparkSession\n",
    "from pyspark.ml.classification import LogisticRegression, DecisionTreeClassifier, RandomForestClassifier, GBTClassifier\n",
    "from pyspark.ml.evaluation import MulticlassClassificationEvaluator\n",
    "import plotly.express as px\n",
    "import pandas as pd\n",
    "spark = SparkSession.builder \\\n",
    "    .appName(\"LaHoangPhuc_Project_Bigdata\") \\\n",
    "    .master(\"spark://master:7077\") \\\n",
    "    .config(\"spark.executor.memory\", \"8g\") \\\n",
    "    .config(\"spark.executor.memoryOverhead\", \"8g\") \\\n",
    "    .config(\"spark.driver.memory\", \"8g\") \\\n",
    "    .config(\"spark.default.parallelism\", 200) \\\n",
    "    .getOrCreate()\n"
   ]
  },
  {
   "cell_type": "markdown",
   "id": "cab281c8",
   "metadata": {},
   "source": [
    "## 1.1 Load data tu file json vao dataframe"
   ]
  },
  {
   "cell_type": "code",
   "execution_count": 2,
   "id": "89362f06",
   "metadata": {},
   "outputs": [
    {
     "name": "stderr",
     "output_type": "stream",
     "text": [
      "                                                                                \r"
     ]
    },
    {
     "name": "stdout",
     "output_type": "stream",
     "text": [
      "+--------------------+----------+-----------+-----+--------+-------+--------------------+-----------+--------------+--------------------+--------------------+--------------+\n",
      "|                 _id|      asin|   category|class| helpful|overall|          reviewText| reviewTime|    reviewerID|        reviewerName|             summary|unixReviewTime|\n",
      "+--------------------+----------+-----------+-----+--------+-------+--------------------+-----------+--------------+--------------------+--------------------+--------------+\n",
      "|{5a13242d741a2384...|0439886341|Electronics|  0.0|  [1, 1]|    3.0|Some of the funct...|07 22, 2013|A2WNBOD3WNDNKT|                 JAL|       Disappointing|    1374451200|\n",
      "|{5a13242d741a2384...|0132793040|Electronics|  1.0|  [1, 1]|    5.0|Corey Barker does...|04 13, 2013| AKM1MP6P0OYPR|Vicki Gibson \"momo4\"|       Very thorough|    1365811200|\n",
      "|{5a13242d741a2384...|0321732944|Electronics|  1.0|  [0, 0]|    5.0|While many beginn...| 07 1, 2012|A2CX7LUOHB2NDG|              Bernie|Adobe Photoshop C...|    1341100800|\n",
      "|{5a13242d741a2384...|0439886341|Electronics|  0.0|  [1, 1]|    1.0|It never worked. ...|04 29, 2013|A2NWSAGRHCP8N5|         bowmans2007| absolutely horrible|    1367193600|\n",
      "|{5a13242d741a2384...|0439886341|Electronics|  0.0|  [4, 4]|    1.0|Do not waste your...|04 18, 2012|A1GI0U4ZRJA8WN|           Truthfull|TERRIBLE DONT WAS...|    1334707200|\n",
      "|{5a13242d741a2384...|0511189877|Electronics|  1.0|  [0, 0]|    5.0|This unit works j...|03 23, 2014|A34ATBPOK6HCHY|    Nancy C. Johnson|         Great piece|    1395532800|\n",
      "|{5a13242d741a2384...|0511189877|Electronics|  1.0|  [0, 0]|    5.0|It is an exact du...|03 22, 2014| A89DO69P0XZ27|     Stephen Schultz|Time Warner cable...|    1395446400|\n",
      "|{5a13242d741a2384...|0511189877|Electronics|  0.0|  [1, 1]|    2.0|This remote, for ...|04 14, 2014|A3J3BRHTDRFJ2G|  EJ Honda \"ejhonda\"| Ergonomic nightmare|    1397433600|\n",
      "|{5a13242d741a2384...|0511189877|Electronics|  1.0|  [0, 1]|    5.0|We had an old Tim...|03 27, 2014|A2TY0BTJOTENPG|          Johnny Exx|Excellent replace...|    1395878400|\n",
      "|{5a13242d741a2384...|0511189877|Electronics|  1.0|  [0, 1]|    5.0|Works on my t.v. ...|05 29, 2014| AZYNQZ94U6VDB|    Terri L. Pittman|             Awesome|    1401321600|\n",
      "|{5a13242d741a2384...|0528881469|Electronics|  1.0|  [0, 0]|    5.0|Love it has every...|07 18, 2014|A1DA3W4GTFXP6O|                NULL|             love it|    1405641600|\n",
      "|{5a13242d741a2384...|0528881469|Electronics|  0.0|  [0, 0]|    1.0|I have owned two ...| 11 5, 2012|A29LPQQDG7LD5J|      Alfred Delgado|       Piece of Junk|    1352073600|\n",
      "|{5a13242d741a2384...|0528881469|Electronics|  1.0|  [0, 0]|    5.0|We got this GPS f...| 06 2, 2013| AO94DHGC771SJ|             amazdnu|     Gotta have GPS!|    1370131200|\n",
      "|{5a13242d741a2384...|0511189877|Electronics|  1.0|  [0, 0]|    5.0|Dog got the old r...|04 14, 2014|A1QGNMC6O1VW39|                  CK|Works Great with ...|    1397433600|\n",
      "|{5a13242d741a2384...|0528881469|Electronics|  0.0|[12, 15]|    1.0|I'm a professiona...|11 25, 2010| AMO214LNFCEI4|     Amazon Customer|   Very Disappointed|    1290643200|\n",
      "|{5a13242d741a2384...|0528881469|Electronics|  1.0|[21, 22]|    4.0|This is a great t...|07 25, 2010|A28B1G1MSJ6OO1|       A. O Sandness|         Great Unit!|    1280016000|\n",
      "|{5a13242d741a2384...|0528881469|Electronics|  0.0|[43, 45]|    3.0|Well, what can I ...| 09 9, 2010|A3N7T0DY83Y4IG|       C. A. Freeman|      1st impression|    1283990400|\n",
      "|{5a13242d741a2384...|0528881469|Electronics|  1.0|  [1, 1]|    4.0|This unit is a fa...|01 12, 2011|A265MKAR2WEH3Y|          doublebunk|Trucker GPS as a ...|    1294790400|\n",
      "|{5a13242d741a2384...|0528881469|Electronics|  0.0|[23, 32]|    2.0|My brother is a t...|06 21, 2010| A2CPBQ5W4OGBX|Dclownfish03 \"Dcl...|New GPS doesn't w...|    1277078400|\n",
      "|{5a13242d741a2384...|0528881469|Electronics|  0.0| [9, 10]|    2.0|Not going to writ...|11 24, 2010|A1H8PY3QHMQQA0|Dave M. Shaw \"mac...|Great grafics, PO...|    1290556800|\n",
      "+--------------------+----------+-----------+-----+--------+-------+--------------------+-----------+--------------+--------------------+--------------------+--------------+\n",
      "only showing top 20 rows\n",
      "\n"
     ]
    }
   ],
   "source": [
    "#doc du lieu tu json va xuat du lieu \n",
    "df = spark.read.json(\"file:///home/phuc03/spark/Electronics.json\")\n",
    "\n",
    "df.show()\n"
   ]
  },
  {
   "cell_type": "markdown",
   "id": "f18af124",
   "metadata": {},
   "source": [
    "## 1.2 Hiểu các kiểu dữ liệu cho mỗi vectơ"
   ]
  },
  {
   "cell_type": "code",
   "execution_count": 3,
   "id": "1e25aa56",
   "metadata": {},
   "outputs": [
    {
     "name": "stdout",
     "output_type": "stream",
     "text": [
      "root\n",
      " |-- _id: struct (nullable = true)\n",
      " |    |-- $oid: string (nullable = true)\n",
      " |-- asin: string (nullable = true)\n",
      " |-- category: string (nullable = true)\n",
      " |-- class: double (nullable = true)\n",
      " |-- helpful: array (nullable = true)\n",
      " |    |-- element: long (containsNull = true)\n",
      " |-- overall: double (nullable = true)\n",
      " |-- reviewText: string (nullable = true)\n",
      " |-- reviewTime: string (nullable = true)\n",
      " |-- reviewerID: string (nullable = true)\n",
      " |-- reviewerName: string (nullable = true)\n",
      " |-- summary: string (nullable = true)\n",
      " |-- unixReviewTime: long (nullable = true)\n",
      "\n"
     ]
    }
   ],
   "source": [
    "df.printSchema()"
   ]
  },
  {
   "cell_type": "markdown",
   "id": "1ceebbcf",
   "metadata": {},
   "source": [
    "## 2. Data Processing"
   ]
  },
  {
   "cell_type": "markdown",
   "id": "f528f3ce",
   "metadata": {},
   "source": [
    "### 2.1. Cho mỗi 'label' là unique"
   ]
  },
  {
   "cell_type": "code",
   "execution_count": 4,
   "id": "f24a6e44",
   "metadata": {},
   "outputs": [
    {
     "name": "stderr",
     "output_type": "stream",
     "text": [
      "                                                                                \r"
     ]
    },
    {
     "name": "stdout",
     "output_type": "stream",
     "text": [
      "+--------------------+----------+-----------+-----+-------+-------+--------------------+-----------+--------------+------------------+--------------------+--------------+\n",
      "|                 _id|      asin|   category|class|helpful|overall|          reviewText| reviewTime|    reviewerID|      reviewerName|             summary|unixReviewTime|\n",
      "+--------------------+----------+-----------+-----+-------+-------+--------------------+-----------+--------------+------------------+--------------------+--------------+\n",
      "|{5a13242d741a2384...|0439886341|Electronics|  0.0| [1, 1]|    3.0|Some of the funct...|07 22, 2013|A2WNBOD3WNDNKT|               JAL|       Disappointing|    1374451200|\n",
      "|{5a13242d741a2384...|0439886341|Electronics|  0.0| [1, 1]|    1.0|It never worked. ...|04 29, 2013|A2NWSAGRHCP8N5|       bowmans2007| absolutely horrible|    1367193600|\n",
      "|{5a13242d741a2384...|0439886341|Electronics|  0.0| [4, 4]|    1.0|Do not waste your...|04 18, 2012|A1GI0U4ZRJA8WN|         Truthfull|TERRIBLE DONT WAS...|    1334707200|\n",
      "|{5a13242d741a2384...|0511189877|Electronics|  0.0| [1, 1]|    2.0|This remote, for ...|04 14, 2014|A3J3BRHTDRFJ2G|EJ Honda \"ejhonda\"| Ergonomic nightmare|    1397433600|\n",
      "|{5a13242d741a2384...|0528881469|Electronics|  0.0| [0, 0]|    1.0|I have owned two ...| 11 5, 2012|A29LPQQDG7LD5J|    Alfred Delgado|       Piece of Junk|    1352073600|\n",
      "+--------------------+----------+-----------+-----+-------+-------+--------------------+-----------+--------------+------------------+--------------------+--------------+\n",
      "only showing top 5 rows\n",
      "\n",
      "+--------------------+----------+-----------+-----+-------+-------+--------------------+-----------+--------------+--------------------+--------------------+--------------+\n",
      "|                 _id|      asin|   category|class|helpful|overall|          reviewText| reviewTime|    reviewerID|        reviewerName|             summary|unixReviewTime|\n",
      "+--------------------+----------+-----------+-----+-------+-------+--------------------+-----------+--------------+--------------------+--------------------+--------------+\n",
      "|{5a13242d741a2384...|0132793040|Electronics|  1.0| [1, 1]|    5.0|Corey Barker does...|04 13, 2013| AKM1MP6P0OYPR|Vicki Gibson \"momo4\"|       Very thorough|    1365811200|\n",
      "|{5a13242d741a2384...|0321732944|Electronics|  1.0| [0, 0]|    5.0|While many beginn...| 07 1, 2012|A2CX7LUOHB2NDG|              Bernie|Adobe Photoshop C...|    1341100800|\n",
      "|{5a13242d741a2384...|0511189877|Electronics|  1.0| [0, 0]|    5.0|This unit works j...|03 23, 2014|A34ATBPOK6HCHY|    Nancy C. Johnson|         Great piece|    1395532800|\n",
      "|{5a13242d741a2384...|0511189877|Electronics|  1.0| [0, 0]|    5.0|It is an exact du...|03 22, 2014| A89DO69P0XZ27|     Stephen Schultz|Time Warner cable...|    1395446400|\n",
      "|{5a13242d741a2384...|0511189877|Electronics|  1.0| [0, 1]|    5.0|We had an old Tim...|03 27, 2014|A2TY0BTJOTENPG|          Johnny Exx|Excellent replace...|    1395878400|\n",
      "+--------------------+----------+-----------+-----+-------+-------+--------------------+-----------+--------------+--------------------+--------------------+--------------+\n",
      "only showing top 5 rows\n",
      "\n"
     ]
    }
   ],
   "source": [
    "distinct_labels = df.select('class').distinct().rdd.flatMap(lambda x: x).collect()\n",
    "\n",
    "#update\n",
    "for label in distinct_labels:\n",
    "    df.filter(df['class'] == label).show(n=5)  "
   ]
  },
  {
   "cell_type": "markdown",
   "id": "bc46e6b5",
   "metadata": {},
   "source": [
    "### 2.2 Xóa các ký tự đặc biệt khỏi cột _id"
   ]
  },
  {
   "cell_type": "code",
   "execution_count": 5,
   "id": "7a029c83",
   "metadata": {},
   "outputs": [
    {
     "name": "stdout",
     "output_type": "stream",
     "text": [
      "+--------------------+----------+-----------+-----+--------+-------+--------------------+-----------+--------------+--------------------+--------------------+--------------+\n",
      "|                 _id|      asin|   category|class| helpful|overall|          reviewText| reviewTime|    reviewerID|        reviewerName|             summary|unixReviewTime|\n",
      "+--------------------+----------+-----------+-----+--------+-------+--------------------+-----------+--------------+--------------------+--------------------+--------------+\n",
      "|5a13242d741a2384e...|0439886341|Electronics|  0.0|  [1, 1]|    3.0|Some of the funct...|07 22, 2013|A2WNBOD3WNDNKT|                 JAL|       Disappointing|    1374451200|\n",
      "|5a13242d741a2384e...|0132793040|Electronics|  1.0|  [1, 1]|    5.0|Corey Barker does...|04 13, 2013| AKM1MP6P0OYPR|Vicki Gibson \"momo4\"|       Very thorough|    1365811200|\n",
      "|5a13242d741a2384e...|0321732944|Electronics|  1.0|  [0, 0]|    5.0|While many beginn...| 07 1, 2012|A2CX7LUOHB2NDG|              Bernie|Adobe Photoshop C...|    1341100800|\n",
      "|5a13242d741a2384e...|0439886341|Electronics|  0.0|  [1, 1]|    1.0|It never worked. ...|04 29, 2013|A2NWSAGRHCP8N5|         bowmans2007| absolutely horrible|    1367193600|\n",
      "|5a13242d741a2384e...|0439886341|Electronics|  0.0|  [4, 4]|    1.0|Do not waste your...|04 18, 2012|A1GI0U4ZRJA8WN|           Truthfull|TERRIBLE DONT WAS...|    1334707200|\n",
      "|5a13242d741a2384e...|0511189877|Electronics|  1.0|  [0, 0]|    5.0|This unit works j...|03 23, 2014|A34ATBPOK6HCHY|    Nancy C. Johnson|         Great piece|    1395532800|\n",
      "|5a13242d741a2384e...|0511189877|Electronics|  1.0|  [0, 0]|    5.0|It is an exact du...|03 22, 2014| A89DO69P0XZ27|     Stephen Schultz|Time Warner cable...|    1395446400|\n",
      "|5a13242d741a2384e...|0511189877|Electronics|  0.0|  [1, 1]|    2.0|This remote, for ...|04 14, 2014|A3J3BRHTDRFJ2G|  EJ Honda \"ejhonda\"| Ergonomic nightmare|    1397433600|\n",
      "|5a13242d741a2384e...|0511189877|Electronics|  1.0|  [0, 1]|    5.0|We had an old Tim...|03 27, 2014|A2TY0BTJOTENPG|          Johnny Exx|Excellent replace...|    1395878400|\n",
      "|5a13242d741a2384e...|0511189877|Electronics|  1.0|  [0, 1]|    5.0|Works on my t.v. ...|05 29, 2014| AZYNQZ94U6VDB|    Terri L. Pittman|             Awesome|    1401321600|\n",
      "|5a13242d741a2384e...|0528881469|Electronics|  1.0|  [0, 0]|    5.0|Love it has every...|07 18, 2014|A1DA3W4GTFXP6O|                NULL|             love it|    1405641600|\n",
      "|5a13242d741a2384e...|0528881469|Electronics|  0.0|  [0, 0]|    1.0|I have owned two ...| 11 5, 2012|A29LPQQDG7LD5J|      Alfred Delgado|       Piece of Junk|    1352073600|\n",
      "|5a13242d741a2384e...|0528881469|Electronics|  1.0|  [0, 0]|    5.0|We got this GPS f...| 06 2, 2013| AO94DHGC771SJ|             amazdnu|     Gotta have GPS!|    1370131200|\n",
      "|5a13242d741a2384e...|0511189877|Electronics|  1.0|  [0, 0]|    5.0|Dog got the old r...|04 14, 2014|A1QGNMC6O1VW39|                  CK|Works Great with ...|    1397433600|\n",
      "|5a13242d741a2384e...|0528881469|Electronics|  0.0|[12, 15]|    1.0|I'm a professiona...|11 25, 2010| AMO214LNFCEI4|     Amazon Customer|   Very Disappointed|    1290643200|\n",
      "|5a13242d741a2384e...|0528881469|Electronics|  1.0|[21, 22]|    4.0|This is a great t...|07 25, 2010|A28B1G1MSJ6OO1|       A. O Sandness|         Great Unit!|    1280016000|\n",
      "|5a13242d741a2384e...|0528881469|Electronics|  0.0|[43, 45]|    3.0|Well, what can I ...| 09 9, 2010|A3N7T0DY83Y4IG|       C. A. Freeman|      1st impression|    1283990400|\n",
      "|5a13242d741a2384e...|0528881469|Electronics|  1.0|  [1, 1]|    4.0|This unit is a fa...|01 12, 2011|A265MKAR2WEH3Y|          doublebunk|Trucker GPS as a ...|    1294790400|\n",
      "|5a13242d741a2384e...|0528881469|Electronics|  0.0|[23, 32]|    2.0|My brother is a t...|06 21, 2010| A2CPBQ5W4OGBX|Dclownfish03 \"Dcl...|New GPS doesn't w...|    1277078400|\n",
      "|5a13242d741a2384e...|0528881469|Electronics|  0.0| [9, 10]|    2.0|Not going to writ...|11 24, 2010|A1H8PY3QHMQQA0|Dave M. Shaw \"mac...|Great grafics, PO...|    1290556800|\n",
      "+--------------------+----------+-----------+-----+--------+-------+--------------------+-----------+--------------+--------------------+--------------------+--------------+\n",
      "only showing top 20 rows\n",
      "\n"
     ]
    }
   ],
   "source": [
    "from pyspark.sql.functions import col\n",
    "from pyspark.sql.functions import regexp_replace\n",
    "\n",
    "\n",
    "cleaned_df = df.withColumn(\"_id\", col(\"_id\").getField(\"$oid\"))\n",
    "cleaned_df = cleaned_df.withColumn(\"_id\", regexp_replace(col(\"_id\"), \"[{}]\", \"\"))\n",
    "\n",
    "cleaned_df.show()"
   ]
  },
  {
   "cell_type": "markdown",
   "id": "ae479712",
   "metadata": {},
   "source": [
    "### 2.3 Loại bỏ các cột không cần thiết "
   ]
  },
  {
   "cell_type": "code",
   "execution_count": 6,
   "id": "7ca7cc0e",
   "metadata": {},
   "outputs": [
    {
     "name": "stdout",
     "output_type": "stream",
     "text": [
      "+--------------------+----------+-----+--------+-------+--------------------+-----------+--------------+--------------------+--------------------+--------------+\n",
      "|                 _id|      asin|class| helpful|overall|          reviewText| reviewTime|    reviewerID|        reviewerName|             summary|unixReviewTime|\n",
      "+--------------------+----------+-----+--------+-------+--------------------+-----------+--------------+--------------------+--------------------+--------------+\n",
      "|5a13242d741a2384e...|0439886341|  0.0|  [1, 1]|    3.0|Some of the funct...|07 22, 2013|A2WNBOD3WNDNKT|                 JAL|       Disappointing|    1374451200|\n",
      "|5a13242d741a2384e...|0132793040|  1.0|  [1, 1]|    5.0|Corey Barker does...|04 13, 2013| AKM1MP6P0OYPR|Vicki Gibson \"momo4\"|       Very thorough|    1365811200|\n",
      "|5a13242d741a2384e...|0321732944|  1.0|  [0, 0]|    5.0|While many beginn...| 07 1, 2012|A2CX7LUOHB2NDG|              Bernie|Adobe Photoshop C...|    1341100800|\n",
      "|5a13242d741a2384e...|0439886341|  0.0|  [1, 1]|    1.0|It never worked. ...|04 29, 2013|A2NWSAGRHCP8N5|         bowmans2007| absolutely horrible|    1367193600|\n",
      "|5a13242d741a2384e...|0439886341|  0.0|  [4, 4]|    1.0|Do not waste your...|04 18, 2012|A1GI0U4ZRJA8WN|           Truthfull|TERRIBLE DONT WAS...|    1334707200|\n",
      "|5a13242d741a2384e...|0511189877|  1.0|  [0, 0]|    5.0|This unit works j...|03 23, 2014|A34ATBPOK6HCHY|    Nancy C. Johnson|         Great piece|    1395532800|\n",
      "|5a13242d741a2384e...|0511189877|  1.0|  [0, 0]|    5.0|It is an exact du...|03 22, 2014| A89DO69P0XZ27|     Stephen Schultz|Time Warner cable...|    1395446400|\n",
      "|5a13242d741a2384e...|0511189877|  0.0|  [1, 1]|    2.0|This remote, for ...|04 14, 2014|A3J3BRHTDRFJ2G|  EJ Honda \"ejhonda\"| Ergonomic nightmare|    1397433600|\n",
      "|5a13242d741a2384e...|0511189877|  1.0|  [0, 1]|    5.0|We had an old Tim...|03 27, 2014|A2TY0BTJOTENPG|          Johnny Exx|Excellent replace...|    1395878400|\n",
      "|5a13242d741a2384e...|0511189877|  1.0|  [0, 1]|    5.0|Works on my t.v. ...|05 29, 2014| AZYNQZ94U6VDB|    Terri L. Pittman|             Awesome|    1401321600|\n",
      "|5a13242d741a2384e...|0528881469|  1.0|  [0, 0]|    5.0|Love it has every...|07 18, 2014|A1DA3W4GTFXP6O|                NULL|             love it|    1405641600|\n",
      "|5a13242d741a2384e...|0528881469|  0.0|  [0, 0]|    1.0|I have owned two ...| 11 5, 2012|A29LPQQDG7LD5J|      Alfred Delgado|       Piece of Junk|    1352073600|\n",
      "|5a13242d741a2384e...|0528881469|  1.0|  [0, 0]|    5.0|We got this GPS f...| 06 2, 2013| AO94DHGC771SJ|             amazdnu|     Gotta have GPS!|    1370131200|\n",
      "|5a13242d741a2384e...|0511189877|  1.0|  [0, 0]|    5.0|Dog got the old r...|04 14, 2014|A1QGNMC6O1VW39|                  CK|Works Great with ...|    1397433600|\n",
      "|5a13242d741a2384e...|0528881469|  0.0|[12, 15]|    1.0|I'm a professiona...|11 25, 2010| AMO214LNFCEI4|     Amazon Customer|   Very Disappointed|    1290643200|\n",
      "|5a13242d741a2384e...|0528881469|  1.0|[21, 22]|    4.0|This is a great t...|07 25, 2010|A28B1G1MSJ6OO1|       A. O Sandness|         Great Unit!|    1280016000|\n",
      "|5a13242d741a2384e...|0528881469|  0.0|[43, 45]|    3.0|Well, what can I ...| 09 9, 2010|A3N7T0DY83Y4IG|       C. A. Freeman|      1st impression|    1283990400|\n",
      "|5a13242d741a2384e...|0528881469|  1.0|  [1, 1]|    4.0|This unit is a fa...|01 12, 2011|A265MKAR2WEH3Y|          doublebunk|Trucker GPS as a ...|    1294790400|\n",
      "|5a13242d741a2384e...|0528881469|  0.0|[23, 32]|    2.0|My brother is a t...|06 21, 2010| A2CPBQ5W4OGBX|Dclownfish03 \"Dcl...|New GPS doesn't w...|    1277078400|\n",
      "|5a13242d741a2384e...|0528881469|  0.0| [9, 10]|    2.0|Not going to writ...|11 24, 2010|A1H8PY3QHMQQA0|Dave M. Shaw \"mac...|Great grafics, PO...|    1290556800|\n",
      "+--------------------+----------+-----+--------+-------+--------------------+-----------+--------------+--------------------+--------------------+--------------+\n",
      "only showing top 20 rows\n",
      "\n"
     ]
    }
   ],
   "source": [
    "cleaned_df = cleaned_df.drop('category') # hoac cac cot nay`'asin' , 'reviewerID', 'reviewerName') \n",
    "cleaned_df.show()"
   ]
  },
  {
   "cell_type": "markdown",
   "id": "4c261a8c",
   "metadata": {},
   "source": [
    "### 2.4 Đổi tên cột overall thành productRating vs _id thành id"
   ]
  },
  {
   "cell_type": "code",
   "execution_count": 7,
   "id": "5412582f",
   "metadata": {},
   "outputs": [],
   "source": [
    "cleaned_df = cleaned_df.withColumnRenamed(\"overall\", \"productRating\")\\\n",
    "            .withColumnRenamed(\"_id\", \"id\")"
   ]
  },
  {
   "cell_type": "code",
   "execution_count": 8,
   "id": "00fff659",
   "metadata": {},
   "outputs": [
    {
     "name": "stdout",
     "output_type": "stream",
     "text": [
      "+--------------------+----------+-----+--------+-------------+--------------------+-----------+--------------+--------------------+--------------------+--------------+\n",
      "|                  id|      asin|class| helpful|productRating|          reviewText| reviewTime|    reviewerID|        reviewerName|             summary|unixReviewTime|\n",
      "+--------------------+----------+-----+--------+-------------+--------------------+-----------+--------------+--------------------+--------------------+--------------+\n",
      "|5a13242d741a2384e...|0439886341|  0.0|  [1, 1]|          3.0|Some of the funct...|07 22, 2013|A2WNBOD3WNDNKT|                 JAL|       Disappointing|    1374451200|\n",
      "|5a13242d741a2384e...|0132793040|  1.0|  [1, 1]|          5.0|Corey Barker does...|04 13, 2013| AKM1MP6P0OYPR|Vicki Gibson \"momo4\"|       Very thorough|    1365811200|\n",
      "|5a13242d741a2384e...|0321732944|  1.0|  [0, 0]|          5.0|While many beginn...| 07 1, 2012|A2CX7LUOHB2NDG|              Bernie|Adobe Photoshop C...|    1341100800|\n",
      "|5a13242d741a2384e...|0439886341|  0.0|  [1, 1]|          1.0|It never worked. ...|04 29, 2013|A2NWSAGRHCP8N5|         bowmans2007| absolutely horrible|    1367193600|\n",
      "|5a13242d741a2384e...|0439886341|  0.0|  [4, 4]|          1.0|Do not waste your...|04 18, 2012|A1GI0U4ZRJA8WN|           Truthfull|TERRIBLE DONT WAS...|    1334707200|\n",
      "|5a13242d741a2384e...|0511189877|  1.0|  [0, 0]|          5.0|This unit works j...|03 23, 2014|A34ATBPOK6HCHY|    Nancy C. Johnson|         Great piece|    1395532800|\n",
      "|5a13242d741a2384e...|0511189877|  1.0|  [0, 0]|          5.0|It is an exact du...|03 22, 2014| A89DO69P0XZ27|     Stephen Schultz|Time Warner cable...|    1395446400|\n",
      "|5a13242d741a2384e...|0511189877|  0.0|  [1, 1]|          2.0|This remote, for ...|04 14, 2014|A3J3BRHTDRFJ2G|  EJ Honda \"ejhonda\"| Ergonomic nightmare|    1397433600|\n",
      "|5a13242d741a2384e...|0511189877|  1.0|  [0, 1]|          5.0|We had an old Tim...|03 27, 2014|A2TY0BTJOTENPG|          Johnny Exx|Excellent replace...|    1395878400|\n",
      "|5a13242d741a2384e...|0511189877|  1.0|  [0, 1]|          5.0|Works on my t.v. ...|05 29, 2014| AZYNQZ94U6VDB|    Terri L. Pittman|             Awesome|    1401321600|\n",
      "|5a13242d741a2384e...|0528881469|  1.0|  [0, 0]|          5.0|Love it has every...|07 18, 2014|A1DA3W4GTFXP6O|                NULL|             love it|    1405641600|\n",
      "|5a13242d741a2384e...|0528881469|  0.0|  [0, 0]|          1.0|I have owned two ...| 11 5, 2012|A29LPQQDG7LD5J|      Alfred Delgado|       Piece of Junk|    1352073600|\n",
      "|5a13242d741a2384e...|0528881469|  1.0|  [0, 0]|          5.0|We got this GPS f...| 06 2, 2013| AO94DHGC771SJ|             amazdnu|     Gotta have GPS!|    1370131200|\n",
      "|5a13242d741a2384e...|0511189877|  1.0|  [0, 0]|          5.0|Dog got the old r...|04 14, 2014|A1QGNMC6O1VW39|                  CK|Works Great with ...|    1397433600|\n",
      "|5a13242d741a2384e...|0528881469|  0.0|[12, 15]|          1.0|I'm a professiona...|11 25, 2010| AMO214LNFCEI4|     Amazon Customer|   Very Disappointed|    1290643200|\n",
      "|5a13242d741a2384e...|0528881469|  1.0|[21, 22]|          4.0|This is a great t...|07 25, 2010|A28B1G1MSJ6OO1|       A. O Sandness|         Great Unit!|    1280016000|\n",
      "|5a13242d741a2384e...|0528881469|  0.0|[43, 45]|          3.0|Well, what can I ...| 09 9, 2010|A3N7T0DY83Y4IG|       C. A. Freeman|      1st impression|    1283990400|\n",
      "|5a13242d741a2384e...|0528881469|  1.0|  [1, 1]|          4.0|This unit is a fa...|01 12, 2011|A265MKAR2WEH3Y|          doublebunk|Trucker GPS as a ...|    1294790400|\n",
      "|5a13242d741a2384e...|0528881469|  0.0|[23, 32]|          2.0|My brother is a t...|06 21, 2010| A2CPBQ5W4OGBX|Dclownfish03 \"Dcl...|New GPS doesn't w...|    1277078400|\n",
      "|5a13242d741a2384e...|0528881469|  0.0| [9, 10]|          2.0|Not going to writ...|11 24, 2010|A1H8PY3QHMQQA0|Dave M. Shaw \"mac...|Great grafics, PO...|    1290556800|\n",
      "+--------------------+----------+-----+--------+-------------+--------------------+-----------+--------------+--------------------+--------------------+--------------+\n",
      "only showing top 20 rows\n",
      "\n"
     ]
    }
   ],
   "source": [
    "# kiem tra lai thu\n",
    "cleaned_df.show()"
   ]
  },
  {
   "cell_type": "markdown",
   "id": "9110c34b",
   "metadata": {},
   "source": [
    "### 2.5 Tạo một cột mới ('reviewUpvotes') với phần đầu tiên của cột ('helpful')"
   ]
  },
  {
   "cell_type": "code",
   "execution_count": 9,
   "id": "1cb13ffa",
   "metadata": {},
   "outputs": [
    {
     "name": "stdout",
     "output_type": "stream",
     "text": [
      "+--------------------+----------+-----+--------+-------------+--------------------+-----------+--------------+--------------------+--------------------+--------------+-------------+\n",
      "|                  id|      asin|class| helpful|productRating|          reviewText| reviewTime|    reviewerID|        reviewerName|             summary|unixReviewTime|reviewUpvotes|\n",
      "+--------------------+----------+-----+--------+-------------+--------------------+-----------+--------------+--------------------+--------------------+--------------+-------------+\n",
      "|5a13242d741a2384e...|0439886341|  0.0|  [1, 1]|          3.0|Some of the funct...|07 22, 2013|A2WNBOD3WNDNKT|                 JAL|       Disappointing|    1374451200|            1|\n",
      "|5a13242d741a2384e...|0132793040|  1.0|  [1, 1]|          5.0|Corey Barker does...|04 13, 2013| AKM1MP6P0OYPR|Vicki Gibson \"momo4\"|       Very thorough|    1365811200|            1|\n",
      "|5a13242d741a2384e...|0321732944|  1.0|  [0, 0]|          5.0|While many beginn...| 07 1, 2012|A2CX7LUOHB2NDG|              Bernie|Adobe Photoshop C...|    1341100800|            0|\n",
      "|5a13242d741a2384e...|0439886341|  0.0|  [1, 1]|          1.0|It never worked. ...|04 29, 2013|A2NWSAGRHCP8N5|         bowmans2007| absolutely horrible|    1367193600|            1|\n",
      "|5a13242d741a2384e...|0439886341|  0.0|  [4, 4]|          1.0|Do not waste your...|04 18, 2012|A1GI0U4ZRJA8WN|           Truthfull|TERRIBLE DONT WAS...|    1334707200|            4|\n",
      "|5a13242d741a2384e...|0511189877|  1.0|  [0, 0]|          5.0|This unit works j...|03 23, 2014|A34ATBPOK6HCHY|    Nancy C. Johnson|         Great piece|    1395532800|            0|\n",
      "|5a13242d741a2384e...|0511189877|  1.0|  [0, 0]|          5.0|It is an exact du...|03 22, 2014| A89DO69P0XZ27|     Stephen Schultz|Time Warner cable...|    1395446400|            0|\n",
      "|5a13242d741a2384e...|0511189877|  0.0|  [1, 1]|          2.0|This remote, for ...|04 14, 2014|A3J3BRHTDRFJ2G|  EJ Honda \"ejhonda\"| Ergonomic nightmare|    1397433600|            1|\n",
      "|5a13242d741a2384e...|0511189877|  1.0|  [0, 1]|          5.0|We had an old Tim...|03 27, 2014|A2TY0BTJOTENPG|          Johnny Exx|Excellent replace...|    1395878400|            0|\n",
      "|5a13242d741a2384e...|0511189877|  1.0|  [0, 1]|          5.0|Works on my t.v. ...|05 29, 2014| AZYNQZ94U6VDB|    Terri L. Pittman|             Awesome|    1401321600|            0|\n",
      "|5a13242d741a2384e...|0528881469|  1.0|  [0, 0]|          5.0|Love it has every...|07 18, 2014|A1DA3W4GTFXP6O|                NULL|             love it|    1405641600|            0|\n",
      "|5a13242d741a2384e...|0528881469|  0.0|  [0, 0]|          1.0|I have owned two ...| 11 5, 2012|A29LPQQDG7LD5J|      Alfred Delgado|       Piece of Junk|    1352073600|            0|\n",
      "|5a13242d741a2384e...|0528881469|  1.0|  [0, 0]|          5.0|We got this GPS f...| 06 2, 2013| AO94DHGC771SJ|             amazdnu|     Gotta have GPS!|    1370131200|            0|\n",
      "|5a13242d741a2384e...|0511189877|  1.0|  [0, 0]|          5.0|Dog got the old r...|04 14, 2014|A1QGNMC6O1VW39|                  CK|Works Great with ...|    1397433600|            0|\n",
      "|5a13242d741a2384e...|0528881469|  0.0|[12, 15]|          1.0|I'm a professiona...|11 25, 2010| AMO214LNFCEI4|     Amazon Customer|   Very Disappointed|    1290643200|           12|\n",
      "|5a13242d741a2384e...|0528881469|  1.0|[21, 22]|          4.0|This is a great t...|07 25, 2010|A28B1G1MSJ6OO1|       A. O Sandness|         Great Unit!|    1280016000|           21|\n",
      "|5a13242d741a2384e...|0528881469|  0.0|[43, 45]|          3.0|Well, what can I ...| 09 9, 2010|A3N7T0DY83Y4IG|       C. A. Freeman|      1st impression|    1283990400|           43|\n",
      "|5a13242d741a2384e...|0528881469|  1.0|  [1, 1]|          4.0|This unit is a fa...|01 12, 2011|A265MKAR2WEH3Y|          doublebunk|Trucker GPS as a ...|    1294790400|            1|\n",
      "|5a13242d741a2384e...|0528881469|  0.0|[23, 32]|          2.0|My brother is a t...|06 21, 2010| A2CPBQ5W4OGBX|Dclownfish03 \"Dcl...|New GPS doesn't w...|    1277078400|           23|\n",
      "|5a13242d741a2384e...|0528881469|  0.0| [9, 10]|          2.0|Not going to writ...|11 24, 2010|A1H8PY3QHMQQA0|Dave M. Shaw \"mac...|Great grafics, PO...|    1290556800|            9|\n",
      "+--------------------+----------+-----+--------+-------------+--------------------+-----------+--------------+--------------------+--------------------+--------------+-------------+\n",
      "only showing top 20 rows\n",
      "\n"
     ]
    }
   ],
   "source": [
    "cleaned_df = cleaned_df.withColumn('reviewUpvotes', col('helpful')[0])\n",
    "cleaned_df.show()"
   ]
  },
  {
   "cell_type": "markdown",
   "id": "07e339a0",
   "metadata": {},
   "source": [
    "### 2.6 Tính toán tỷ lệ \"helpful\" giúp người dùng đánh giá độ hữu ích của một sản phẩm hoặc một bài đánh giá"
   ]
  },
  {
   "cell_type": "code",
   "execution_count": 10,
   "id": "a65f1fea",
   "metadata": {},
   "outputs": [],
   "source": [
    "from pyspark.sql.types import FloatType\n",
    "from pyspark.sql.functions import udf\n",
    "\n",
    "def helpful_ratio(helpful):\n",
    "    try:\n",
    "        return (helpful[0] / helpful[1])*100\n",
    "    except ZeroDivisionError:\n",
    "        return 0.0  \n",
    "    except:\n",
    "        return None\n",
    "\n",
    "# UDF registration\n",
    "ratio_udf = udf(helpful_ratio, FloatType())\n",
    "\n",
    "# Apply the UDF to the DataFrame\n",
    "cleaned_df =  cleaned_df.withColumn('helpful', ratio_udf(col('helpful')))\n"
   ]
  },
  {
   "cell_type": "code",
   "execution_count": 11,
   "id": "1367ba84",
   "metadata": {},
   "outputs": [],
   "source": [
    "## doi ten\n",
    "cleaned_df =cleaned_df.withColumnRenamed(\"helpful\", \"helpfulTotalRatio\")"
   ]
  },
  {
   "cell_type": "code",
   "execution_count": 12,
   "id": "b89a3180",
   "metadata": {},
   "outputs": [
    {
     "data": {
      "text/plain": [
       "['id',\n",
       " 'asin',\n",
       " 'class',\n",
       " 'helpfulTotalRatio',\n",
       " 'productRating',\n",
       " 'reviewText',\n",
       " 'reviewTime',\n",
       " 'reviewerID',\n",
       " 'reviewerName',\n",
       " 'summary',\n",
       " 'unixReviewTime',\n",
       " 'reviewUpvotes']"
      ]
     },
     "execution_count": 12,
     "metadata": {},
     "output_type": "execute_result"
    }
   ],
   "source": [
    "## kiem tra lai column\n",
    "cleaned_df.columns"
   ]
  },
  {
   "cell_type": "markdown",
   "id": "e51e17d2",
   "metadata": {},
   "source": [
    "### 2.7 Xóa các ký tự đặc biệt và chuyển thành chữ thường"
   ]
  },
  {
   "cell_type": "code",
   "execution_count": 13,
   "id": "d98e8137",
   "metadata": {},
   "outputs": [
    {
     "name": "stderr",
     "output_type": "stream",
     "text": [
      "<>:4: SyntaxWarning: invalid escape sequence '\\w'\n",
      "<>:4: SyntaxWarning: invalid escape sequence '\\w'\n",
      "/tmp/ipykernel_5668/1226335080.py:4: SyntaxWarning: invalid escape sequence '\\w'\n",
      "  .withColumn(\"reviewText\", regexp_replace(col(\"reviewText\"), \"[^\\w\\s]\", \"\"))\n"
     ]
    }
   ],
   "source": [
    "from pyspark.sql.functions import col, lower, regexp_replace\n",
    "\n",
    "cleaned_df = cleaned_df.withColumn(\"reviewText\", lower(col(\"reviewText\")))\\\n",
    "                 .withColumn(\"reviewText\", regexp_replace(col(\"reviewText\"), \"[^\\w\\s]\", \"\"))"
   ]
  },
  {
   "cell_type": "code",
   "execution_count": 14,
   "id": "0e559643",
   "metadata": {},
   "outputs": [
    {
     "name": "stderr",
     "output_type": "stream",
     "text": [
      "<>:2: SyntaxWarning: invalid escape sequence '\\w'\n",
      "<>:2: SyntaxWarning: invalid escape sequence '\\w'\n",
      "/tmp/ipykernel_5668/4005795503.py:2: SyntaxWarning: invalid escape sequence '\\w'\n",
      "  .withColumn(\"summary\", regexp_replace(col(\"summary\"), \"[^\\w\\s]\", \"\"))\n"
     ]
    }
   ],
   "source": [
    "leaned_df = cleaned_df.withColumn(\"summary\", lower(col(\"summary\")))\\\n",
    "                 .withColumn(\"summary\", regexp_replace(col(\"summary\"), \"[^\\w\\s]\", \"\"))"
   ]
  },
  {
   "cell_type": "code",
   "execution_count": 15,
   "id": "e182ea57",
   "metadata": {},
   "outputs": [
    {
     "name": "stderr",
     "output_type": "stream",
     "text": [
      "\r\n",
      "[Stage 11:>                                                         (0 + 1) / 1]\r"
     ]
    },
    {
     "name": "stdout",
     "output_type": "stream",
     "text": [
      "+--------------------+----------+-----+-----------------+-------------+--------------------+-----------+--------------+--------------------+--------------------+--------------+-------------+\n",
      "|                  id|      asin|class|helpfulTotalRatio|productRating|          reviewText| reviewTime|    reviewerID|        reviewerName|             summary|unixReviewTime|reviewUpvotes|\n",
      "+--------------------+----------+-----+-----------------+-------------+--------------------+-----------+--------------+--------------------+--------------------+--------------+-------------+\n",
      "|5a13242d741a2384e...|0439886341|  0.0|            100.0|          3.0|some of the funct...|07 22, 2013|A2WNBOD3WNDNKT|                 JAL|       Disappointing|    1374451200|            1|\n",
      "|5a13242d741a2384e...|0132793040|  1.0|            100.0|          5.0|corey barker does...|04 13, 2013| AKM1MP6P0OYPR|Vicki Gibson \"momo4\"|       Very thorough|    1365811200|            1|\n",
      "|5a13242d741a2384e...|0321732944|  1.0|              0.0|          5.0|while many beginn...| 07 1, 2012|A2CX7LUOHB2NDG|              Bernie|Adobe Photoshop C...|    1341100800|            0|\n",
      "|5a13242d741a2384e...|0439886341|  0.0|            100.0|          1.0|it never worked m...|04 29, 2013|A2NWSAGRHCP8N5|         bowmans2007| absolutely horrible|    1367193600|            1|\n",
      "|5a13242d741a2384e...|0439886341|  0.0|            100.0|          1.0|do not waste your...|04 18, 2012|A1GI0U4ZRJA8WN|           Truthfull|TERRIBLE DONT WAS...|    1334707200|            4|\n",
      "|5a13242d741a2384e...|0511189877|  1.0|              0.0|          5.0|this unit works j...|03 23, 2014|A34ATBPOK6HCHY|    Nancy C. Johnson|         Great piece|    1395532800|            0|\n",
      "|5a13242d741a2384e...|0511189877|  1.0|              0.0|          5.0|it is an exact du...|03 22, 2014| A89DO69P0XZ27|     Stephen Schultz|Time Warner cable...|    1395446400|            0|\n",
      "|5a13242d741a2384e...|0511189877|  0.0|            100.0|          2.0|this remote for w...|04 14, 2014|A3J3BRHTDRFJ2G|  EJ Honda \"ejhonda\"| Ergonomic nightmare|    1397433600|            1|\n",
      "|5a13242d741a2384e...|0511189877|  1.0|              0.0|          5.0|we had an old tim...|03 27, 2014|A2TY0BTJOTENPG|          Johnny Exx|Excellent replace...|    1395878400|            0|\n",
      "|5a13242d741a2384e...|0511189877|  1.0|              0.0|          5.0|works on my tv th...|05 29, 2014| AZYNQZ94U6VDB|    Terri L. Pittman|             Awesome|    1401321600|            0|\n",
      "|5a13242d741a2384e...|0528881469|  1.0|              0.0|          5.0|love it has every...|07 18, 2014|A1DA3W4GTFXP6O|                NULL|             love it|    1405641600|            0|\n",
      "|5a13242d741a2384e...|0528881469|  0.0|              0.0|          1.0|i have owned two ...| 11 5, 2012|A29LPQQDG7LD5J|      Alfred Delgado|       Piece of Junk|    1352073600|            0|\n",
      "|5a13242d741a2384e...|0528881469|  1.0|              0.0|          5.0|we got this gps f...| 06 2, 2013| AO94DHGC771SJ|             amazdnu|     Gotta have GPS!|    1370131200|            0|\n",
      "|5a13242d741a2384e...|0511189877|  1.0|              0.0|          5.0|dog got the old r...|04 14, 2014|A1QGNMC6O1VW39|                  CK|Works Great with ...|    1397433600|            0|\n",
      "|5a13242d741a2384e...|0528881469|  0.0|             80.0|          1.0|im a professional...|11 25, 2010| AMO214LNFCEI4|     Amazon Customer|   Very Disappointed|    1290643200|           12|\n",
      "|5a13242d741a2384e...|0528881469|  1.0|        95.454544|          4.0|this is a great t...|07 25, 2010|A28B1G1MSJ6OO1|       A. O Sandness|         Great Unit!|    1280016000|           21|\n",
      "|5a13242d741a2384e...|0528881469|  0.0|         95.55556|          3.0|well what can i s...| 09 9, 2010|A3N7T0DY83Y4IG|       C. A. Freeman|      1st impression|    1283990400|           43|\n",
      "|5a13242d741a2384e...|0528881469|  1.0|            100.0|          4.0|this unit is a fa...|01 12, 2011|A265MKAR2WEH3Y|          doublebunk|Trucker GPS as a ...|    1294790400|            1|\n",
      "|5a13242d741a2384e...|0528881469|  0.0|           71.875|          2.0|my brother is a t...|06 21, 2010| A2CPBQ5W4OGBX|Dclownfish03 \"Dcl...|New GPS doesn't w...|    1277078400|           23|\n",
      "|5a13242d741a2384e...|0528881469|  0.0|             90.0|          2.0|not going to writ...|11 24, 2010|A1H8PY3QHMQQA0|Dave M. Shaw \"mac...|Great grafics, PO...|    1290556800|            9|\n",
      "+--------------------+----------+-----+-----------------+-------------+--------------------+-----------+--------------+--------------------+--------------------+--------------+-------------+\n",
      "only showing top 20 rows\n",
      "\n"
     ]
    },
    {
     "name": "stderr",
     "output_type": "stream",
     "text": [
      "\r\n",
      "[Stage 11:==========================================================(1 + 0) / 1]\r\n",
      "\r\n",
      "                                                                                \r"
     ]
    }
   ],
   "source": [
    "cleaned_df.show()"
   ]
  },
  {
   "cell_type": "markdown",
   "id": "985b2500",
   "metadata": {},
   "source": [
    "### 2.8 Tính độ dài của văn bản cột reviewText và summary trong DataFrame "
   ]
  },
  {
   "cell_type": "code",
   "execution_count": 16,
   "id": "8e8857ac",
   "metadata": {},
   "outputs": [
    {
     "name": "stdout",
     "output_type": "stream",
     "text": [
      "+--------------------+----------+-----+-----------------+-------------+--------------------+-----------+--------------+--------------------+--------------------+--------------+-------------+------------+-------------+\n",
      "|                  id|      asin|class|helpfulTotalRatio|productRating|          reviewText| reviewTime|    reviewerID|        reviewerName|             summary|unixReviewTime|reviewUpvotes|reviewLength|summaryLength|\n",
      "+--------------------+----------+-----+-----------------+-------------+--------------------+-----------+--------------+--------------------+--------------------+--------------+-------------+------------+-------------+\n",
      "|5a13242d741a2384e...|0439886341|  0.0|            100.0|          3.0|some of the funct...|07 22, 2013|A2WNBOD3WNDNKT|                 JAL|       Disappointing|    1374451200|            1|         147|           13|\n",
      "|5a13242d741a2384e...|0132793040|  1.0|            100.0|          5.0|corey barker does...|04 13, 2013| AKM1MP6P0OYPR|Vicki Gibson \"momo4\"|       Very thorough|    1365811200|            1|         219|           13|\n",
      "|5a13242d741a2384e...|0321732944|  1.0|              0.0|          5.0|while many beginn...| 07 1, 2012|A2CX7LUOHB2NDG|              Bernie|Adobe Photoshop C...|    1341100800|            0|         743|           79|\n",
      "|5a13242d741a2384e...|0439886341|  0.0|            100.0|          1.0|it never worked m...|04 29, 2013|A2NWSAGRHCP8N5|         bowmans2007| absolutely horrible|    1367193600|            1|         133|           19|\n",
      "|5a13242d741a2384e...|0439886341|  0.0|            100.0|          1.0|do not waste your...|04 18, 2012|A1GI0U4ZRJA8WN|           Truthfull|TERRIBLE DONT WAS...|    1334707200|            4|         357|           30|\n",
      "|5a13242d741a2384e...|0511189877|  1.0|              0.0|          5.0|this unit works j...|03 23, 2014|A34ATBPOK6HCHY|    Nancy C. Johnson|         Great piece|    1395532800|            0|          95|           11|\n",
      "|5a13242d741a2384e...|0511189877|  1.0|              0.0|          5.0|it is an exact du...|03 22, 2014| A89DO69P0XZ27|     Stephen Schultz|Time Warner cable...|    1395446400|            0|         186|           24|\n",
      "|5a13242d741a2384e...|0511189877|  0.0|            100.0|          2.0|this remote for w...|04 14, 2014|A3J3BRHTDRFJ2G|  EJ Honda \"ejhonda\"| Ergonomic nightmare|    1397433600|            1|         862|           19|\n",
      "|5a13242d741a2384e...|0511189877|  1.0|              0.0|          5.0|we had an old tim...|03 27, 2014|A2TY0BTJOTENPG|          Johnny Exx|Excellent replace...|    1395878400|            0|         572|           49|\n",
      "|5a13242d741a2384e...|0511189877|  1.0|              0.0|          5.0|works on my tv th...|05 29, 2014| AZYNQZ94U6VDB|    Terri L. Pittman|             Awesome|    1401321600|            0|         224|            7|\n",
      "|5a13242d741a2384e...|0528881469|  1.0|              0.0|          5.0|love it has every...|07 18, 2014|A1DA3W4GTFXP6O|                NULL|             love it|    1405641600|            0|          66|            7|\n",
      "|5a13242d741a2384e...|0528881469|  0.0|              0.0|          1.0|i have owned two ...| 11 5, 2012|A29LPQQDG7LD5J|      Alfred Delgado|       Piece of Junk|    1352073600|            0|         433|           13|\n",
      "|5a13242d741a2384e...|0528881469|  1.0|              0.0|          5.0|we got this gps f...| 06 2, 2013| AO94DHGC771SJ|             amazdnu|     Gotta have GPS!|    1370131200|            0|         777|           15|\n",
      "|5a13242d741a2384e...|0511189877|  1.0|              0.0|          5.0|dog got the old r...|04 14, 2014|A1QGNMC6O1VW39|                  CK|Works Great with ...|    1397433600|            0|         233|           27|\n",
      "|5a13242d741a2384e...|0528881469|  0.0|             80.0|          1.0|im a professional...|11 25, 2010| AMO214LNFCEI4|     Amazon Customer|   Very Disappointed|    1290643200|           12|        2116|           17|\n",
      "|5a13242d741a2384e...|0528881469|  1.0|        95.454544|          4.0|this is a great t...|07 25, 2010|A28B1G1MSJ6OO1|       A. O Sandness|         Great Unit!|    1280016000|           21|        1874|           11|\n",
      "|5a13242d741a2384e...|0528881469|  0.0|         95.55556|          3.0|well what can i s...| 09 9, 2010|A3N7T0DY83Y4IG|       C. A. Freeman|      1st impression|    1283990400|           43|        4508|           14|\n",
      "|5a13242d741a2384e...|0528881469|  1.0|            100.0|          4.0|this unit is a fa...|01 12, 2011|A265MKAR2WEH3Y|          doublebunk|Trucker GPS as a ...|    1294790400|            1|         375|           32|\n",
      "|5a13242d741a2384e...|0528881469|  0.0|           71.875|          2.0|my brother is a t...|06 21, 2010| A2CPBQ5W4OGBX|Dclownfish03 \"Dcl...|New GPS doesn't w...|    1277078400|           23|        1248|           39|\n",
      "|5a13242d741a2384e...|0528881469|  0.0|             90.0|          2.0|not going to writ...|11 24, 2010|A1H8PY3QHMQQA0|Dave M. Shaw \"mac...|Great grafics, PO...|    1290556800|            9|        2194|           23|\n",
      "+--------------------+----------+-----+-----------------+-------------+--------------------+-----------+--------------+--------------------+--------------------+--------------+-------------+------------+-------------+\n",
      "only showing top 20 rows\n",
      "\n"
     ]
    }
   ],
   "source": [
    "from pyspark.sql.functions import length\n",
    "\n",
    "cleaned_df = cleaned_df.withColumn('reviewLength', length(cleaned_df['reviewText']))\n",
    "cleaned_df = cleaned_df.withColumn('summaryLength', length(cleaned_df['summary']))\n",
    "cleaned_df.show()"
   ]
  },
  {
   "cell_type": "markdown",
   "id": "9dce3d8e",
   "metadata": {},
   "source": [
    "### 2.9 Đánh giá xem bài đánh giá có được đăng vào cuối tuần hay không"
   ]
  },
  {
   "cell_type": "code",
   "execution_count": 17,
   "id": "997dfd81",
   "metadata": {},
   "outputs": [],
   "source": [
    "from pyspark.sql.functions import col, dayofweek, when\n",
    "\n",
    "cleaned_df = cleaned_df.withColumn('reviewTime', col('reviewTime').cast('timestamp'))\n",
    "\n",
    "cleaned_df = cleaned_df.withColumn('isWeekend', when(dayofweek(col('reviewTime')) > 5, 1).otherwise(0))"
   ]
  },
  {
   "cell_type": "code",
   "execution_count": 18,
   "id": "3d75d712",
   "metadata": {},
   "outputs": [
    {
     "name": "stdout",
     "output_type": "stream",
     "text": [
      "+--------------------+----------+-----+-----------------+-------------+--------------------+----------+--------------+--------------------+--------------------+--------------+-------------+------------+-------------+---------+\n",
      "|                  id|      asin|class|helpfulTotalRatio|productRating|          reviewText|reviewTime|    reviewerID|        reviewerName|             summary|unixReviewTime|reviewUpvotes|reviewLength|summaryLength|isWeekend|\n",
      "+--------------------+----------+-----+-----------------+-------------+--------------------+----------+--------------+--------------------+--------------------+--------------+-------------+------------+-------------+---------+\n",
      "|5a13242d741a2384e...|0439886341|  0.0|            100.0|          3.0|some of the funct...|      NULL|A2WNBOD3WNDNKT|                 JAL|       Disappointing|    1374451200|            1|         147|           13|        0|\n",
      "|5a13242d741a2384e...|0132793040|  1.0|            100.0|          5.0|corey barker does...|      NULL| AKM1MP6P0OYPR|Vicki Gibson \"momo4\"|       Very thorough|    1365811200|            1|         219|           13|        0|\n",
      "|5a13242d741a2384e...|0321732944|  1.0|              0.0|          5.0|while many beginn...|      NULL|A2CX7LUOHB2NDG|              Bernie|Adobe Photoshop C...|    1341100800|            0|         743|           79|        0|\n",
      "|5a13242d741a2384e...|0439886341|  0.0|            100.0|          1.0|it never worked m...|      NULL|A2NWSAGRHCP8N5|         bowmans2007| absolutely horrible|    1367193600|            1|         133|           19|        0|\n",
      "|5a13242d741a2384e...|0439886341|  0.0|            100.0|          1.0|do not waste your...|      NULL|A1GI0U4ZRJA8WN|           Truthfull|TERRIBLE DONT WAS...|    1334707200|            4|         357|           30|        0|\n",
      "|5a13242d741a2384e...|0511189877|  1.0|              0.0|          5.0|this unit works j...|      NULL|A34ATBPOK6HCHY|    Nancy C. Johnson|         Great piece|    1395532800|            0|          95|           11|        0|\n",
      "|5a13242d741a2384e...|0511189877|  1.0|              0.0|          5.0|it is an exact du...|      NULL| A89DO69P0XZ27|     Stephen Schultz|Time Warner cable...|    1395446400|            0|         186|           24|        0|\n",
      "|5a13242d741a2384e...|0511189877|  0.0|            100.0|          2.0|this remote for w...|      NULL|A3J3BRHTDRFJ2G|  EJ Honda \"ejhonda\"| Ergonomic nightmare|    1397433600|            1|         862|           19|        0|\n",
      "|5a13242d741a2384e...|0511189877|  1.0|              0.0|          5.0|we had an old tim...|      NULL|A2TY0BTJOTENPG|          Johnny Exx|Excellent replace...|    1395878400|            0|         572|           49|        0|\n",
      "|5a13242d741a2384e...|0511189877|  1.0|              0.0|          5.0|works on my tv th...|      NULL| AZYNQZ94U6VDB|    Terri L. Pittman|             Awesome|    1401321600|            0|         224|            7|        0|\n",
      "|5a13242d741a2384e...|0528881469|  1.0|              0.0|          5.0|love it has every...|      NULL|A1DA3W4GTFXP6O|                NULL|             love it|    1405641600|            0|          66|            7|        0|\n",
      "|5a13242d741a2384e...|0528881469|  0.0|              0.0|          1.0|i have owned two ...|      NULL|A29LPQQDG7LD5J|      Alfred Delgado|       Piece of Junk|    1352073600|            0|         433|           13|        0|\n",
      "|5a13242d741a2384e...|0528881469|  1.0|              0.0|          5.0|we got this gps f...|      NULL| AO94DHGC771SJ|             amazdnu|     Gotta have GPS!|    1370131200|            0|         777|           15|        0|\n",
      "|5a13242d741a2384e...|0511189877|  1.0|              0.0|          5.0|dog got the old r...|      NULL|A1QGNMC6O1VW39|                  CK|Works Great with ...|    1397433600|            0|         233|           27|        0|\n",
      "|5a13242d741a2384e...|0528881469|  0.0|             80.0|          1.0|im a professional...|      NULL| AMO214LNFCEI4|     Amazon Customer|   Very Disappointed|    1290643200|           12|        2116|           17|        0|\n",
      "|5a13242d741a2384e...|0528881469|  1.0|        95.454544|          4.0|this is a great t...|      NULL|A28B1G1MSJ6OO1|       A. O Sandness|         Great Unit!|    1280016000|           21|        1874|           11|        0|\n",
      "|5a13242d741a2384e...|0528881469|  0.0|         95.55556|          3.0|well what can i s...|      NULL|A3N7T0DY83Y4IG|       C. A. Freeman|      1st impression|    1283990400|           43|        4508|           14|        0|\n",
      "|5a13242d741a2384e...|0528881469|  1.0|            100.0|          4.0|this unit is a fa...|      NULL|A265MKAR2WEH3Y|          doublebunk|Trucker GPS as a ...|    1294790400|            1|         375|           32|        0|\n",
      "|5a13242d741a2384e...|0528881469|  0.0|           71.875|          2.0|my brother is a t...|      NULL| A2CPBQ5W4OGBX|Dclownfish03 \"Dcl...|New GPS doesn't w...|    1277078400|           23|        1248|           39|        0|\n",
      "|5a13242d741a2384e...|0528881469|  0.0|             90.0|          2.0|not going to writ...|      NULL|A1H8PY3QHMQQA0|Dave M. Shaw \"mac...|Great grafics, PO...|    1290556800|            9|        2194|           23|        0|\n",
      "+--------------------+----------+-----+-----------------+-------------+--------------------+----------+--------------+--------------------+--------------------+--------------+-------------+------------+-------------+---------+\n",
      "only showing top 20 rows\n",
      "\n"
     ]
    }
   ],
   "source": [
    "cleaned_df.show()"
   ]
  },
  {
   "cell_type": "markdown",
   "id": "3f2e5e96",
   "metadata": {},
   "source": [
    "### 2.10 Tạo mức độ phổ biến của sản phẩm dựa trên số lượng đánh giá của nó"
   ]
  },
  {
   "cell_type": "code",
   "execution_count": 19,
   "id": "8a06cc4d",
   "metadata": {},
   "outputs": [
    {
     "name": "stdout",
     "output_type": "stream",
     "text": [
      "+--------------------+----------+-----+-----------------+-------------+--------------------+----------+--------------+--------------------+--------------------+--------------+-------------+------------+-------------+---------+\n",
      "|                  id|      asin|class|helpfulTotalRatio|productRating|          reviewText|reviewTime|    reviewerID|        reviewerName|             summary|unixReviewTime|reviewUpvotes|reviewLength|summaryLength|isWeekend|\n",
      "+--------------------+----------+-----+-----------------+-------------+--------------------+----------+--------------+--------------------+--------------------+--------------+-------------+------------+-------------+---------+\n",
      "|5a13242d741a2384e...|0439886341|  0.0|            100.0|          3.0|some of the funct...|      NULL|A2WNBOD3WNDNKT|                 JAL|       Disappointing|    1374451200|            1|         147|           13|        0|\n",
      "|5a13242d741a2384e...|0132793040|  1.0|            100.0|          5.0|corey barker does...|      NULL| AKM1MP6P0OYPR|Vicki Gibson \"momo4\"|       Very thorough|    1365811200|            1|         219|           13|        0|\n",
      "|5a13242d741a2384e...|0321732944|  1.0|              0.0|          5.0|while many beginn...|      NULL|A2CX7LUOHB2NDG|              Bernie|Adobe Photoshop C...|    1341100800|            0|         743|           79|        0|\n",
      "|5a13242d741a2384e...|0439886341|  0.0|            100.0|          1.0|it never worked m...|      NULL|A2NWSAGRHCP8N5|         bowmans2007| absolutely horrible|    1367193600|            1|         133|           19|        0|\n",
      "|5a13242d741a2384e...|0439886341|  0.0|            100.0|          1.0|do not waste your...|      NULL|A1GI0U4ZRJA8WN|           Truthfull|TERRIBLE DONT WAS...|    1334707200|            4|         357|           30|        0|\n",
      "|5a13242d741a2384e...|0511189877|  1.0|              0.0|          5.0|this unit works j...|      NULL|A34ATBPOK6HCHY|    Nancy C. Johnson|         Great piece|    1395532800|            0|          95|           11|        0|\n",
      "|5a13242d741a2384e...|0511189877|  1.0|              0.0|          5.0|it is an exact du...|      NULL| A89DO69P0XZ27|     Stephen Schultz|Time Warner cable...|    1395446400|            0|         186|           24|        0|\n",
      "|5a13242d741a2384e...|0511189877|  0.0|            100.0|          2.0|this remote for w...|      NULL|A3J3BRHTDRFJ2G|  EJ Honda \"ejhonda\"| Ergonomic nightmare|    1397433600|            1|         862|           19|        0|\n",
      "|5a13242d741a2384e...|0511189877|  1.0|              0.0|          5.0|we had an old tim...|      NULL|A2TY0BTJOTENPG|          Johnny Exx|Excellent replace...|    1395878400|            0|         572|           49|        0|\n",
      "|5a13242d741a2384e...|0511189877|  1.0|              0.0|          5.0|works on my tv th...|      NULL| AZYNQZ94U6VDB|    Terri L. Pittman|             Awesome|    1401321600|            0|         224|            7|        0|\n",
      "|5a13242d741a2384e...|0528881469|  1.0|              0.0|          5.0|love it has every...|      NULL|A1DA3W4GTFXP6O|                NULL|             love it|    1405641600|            0|          66|            7|        0|\n",
      "|5a13242d741a2384e...|0528881469|  0.0|              0.0|          1.0|i have owned two ...|      NULL|A29LPQQDG7LD5J|      Alfred Delgado|       Piece of Junk|    1352073600|            0|         433|           13|        0|\n",
      "|5a13242d741a2384e...|0528881469|  1.0|              0.0|          5.0|we got this gps f...|      NULL| AO94DHGC771SJ|             amazdnu|     Gotta have GPS!|    1370131200|            0|         777|           15|        0|\n",
      "|5a13242d741a2384e...|0511189877|  1.0|              0.0|          5.0|dog got the old r...|      NULL|A1QGNMC6O1VW39|                  CK|Works Great with ...|    1397433600|            0|         233|           27|        0|\n",
      "|5a13242d741a2384e...|0528881469|  0.0|             80.0|          1.0|im a professional...|      NULL| AMO214LNFCEI4|     Amazon Customer|   Very Disappointed|    1290643200|           12|        2116|           17|        0|\n",
      "|5a13242d741a2384e...|0528881469|  1.0|        95.454544|          4.0|this is a great t...|      NULL|A28B1G1MSJ6OO1|       A. O Sandness|         Great Unit!|    1280016000|           21|        1874|           11|        0|\n",
      "|5a13242d741a2384e...|0528881469|  0.0|         95.55556|          3.0|well what can i s...|      NULL|A3N7T0DY83Y4IG|       C. A. Freeman|      1st impression|    1283990400|           43|        4508|           14|        0|\n",
      "|5a13242d741a2384e...|0528881469|  1.0|            100.0|          4.0|this unit is a fa...|      NULL|A265MKAR2WEH3Y|          doublebunk|Trucker GPS as a ...|    1294790400|            1|         375|           32|        0|\n",
      "|5a13242d741a2384e...|0528881469|  0.0|           71.875|          2.0|my brother is a t...|      NULL| A2CPBQ5W4OGBX|Dclownfish03 \"Dcl...|New GPS doesn't w...|    1277078400|           23|        1248|           39|        0|\n",
      "|5a13242d741a2384e...|0528881469|  0.0|             90.0|          2.0|not going to writ...|      NULL|A1H8PY3QHMQQA0|Dave M. Shaw \"mac...|Great grafics, PO...|    1290556800|            9|        2194|           23|        0|\n",
      "+--------------------+----------+-----+-----------------+-------------+--------------------+----------+--------------+--------------------+--------------------+--------------+-------------+------------+-------------+---------+\n",
      "only showing top 20 rows\n",
      "\n"
     ]
    }
   ],
   "source": [
    "cleaned_df = cleaned_df.withColumn('reviewLength', length(cleaned_df['reviewText']))\n",
    "cleaned_df = cleaned_df.withColumn('summaryLength', length(cleaned_df['summary']))\n",
    "cleaned_df.show()"
   ]
  },
  {
   "cell_type": "code",
   "execution_count": null,
   "id": "e4588734",
   "metadata": {},
   "outputs": [],
   "source": []
  },
  {
   "cell_type": "markdown",
   "id": "5ea165cc",
   "metadata": {},
   "source": [
    "### 2.11 Tính toán đánh giá trung bình để mô hình có thể thấy độ lệch là bao xa"
   ]
  },
  {
   "cell_type": "code",
   "execution_count": 20,
   "id": "8997c69f",
   "metadata": {},
   "outputs": [],
   "source": [
    "from pyspark.sql.functions import col, dayofweek, when\n",
    "\n",
    "cleaned_df = cleaned_df.withColumn('reviewTime', col('reviewTime').cast('timestamp'))\n",
    "\n",
    "cleaned_df = cleaned_df.withColumn('isWeekend', when(dayofweek(col('reviewTime')) > 5, 1).otherwise(0))"
   ]
  },
  {
   "cell_type": "markdown",
   "id": "c813825f",
   "metadata": {},
   "source": [
    "### 2.12 Group column \"helpfulTotalRatio\""
   ]
  },
  {
   "cell_type": "code",
   "execution_count": 21,
   "id": "017fc675",
   "metadata": {},
   "outputs": [],
   "source": [
    "from pyspark.sql import functions as F\n",
    "from pyspark.sql.window import Window\n",
    "from pyspark.ml.feature import Bucketizer\n",
    "\n",
    "# tính mức độ phổ biến\n",
    "product_popularity_df = cleaned_df.groupBy('asin').agg(F.count('*').alias('productPopularity'))\n",
    "cleaned_df = cleaned_df.join(product_popularity_df, on='asin', how='left')\n",
    "\n",
    "# tính toán đánh giá trung bình\n",
    "product_avg_rating_df = cleaned_df.groupBy('asin').agg(F.avg('productRating').alias('avgProductRating'))\n",
    "cleaned_df = cleaned_df.join(product_avg_rating_df, on='asin', how='left')\n",
    "\n",
    "# tạo danh mục tỷ lệ hữu ích\n",
    "bucketizer = Bucketizer(splits=[0, 33.3, 66.6, 100], inputCol=\"helpfulTotalRatio\", outputCol=\"helpfulRatioCategory\")\n",
    "cleaned_df = bucketizer.setHandleInvalid(\"keep\").transform(cleaned_df)\n",
    "\n",
    "# Chuyen so thanh chu 0 => Low ...\n",
    "cleaned_df = cleaned_df.withColumn(\"helpfulRatioCategory\", \n",
    "                   F.when(F.col(\"helpfulRatioCategory\") == 0, \"Low\")\\\n",
    "                    .when(F.col(\"helpfulRatioCategory\") == 1, \"Medium\")\\\n",
    "                    .otherwise(\"High\"))\n",
    "\n",
    "# tạo chứa cột câu hỏi\n",
    "cleaned_df = cleaned_df.withColumn('containsQuestion', (F.col('reviewText').like('%?%')).cast('integer'))\n"
   ]
  },
  {
   "cell_type": "code",
   "execution_count": 22,
   "id": "96a6997c",
   "metadata": {},
   "outputs": [
    {
     "name": "stderr",
     "output_type": "stream",
     "text": [
      "                                                                                \r"
     ]
    },
    {
     "name": "stdout",
     "output_type": "stream",
     "text": [
      "+----------+--------------------+-----+-----------------+-------------+--------------------+----------+--------------+--------------------+--------------------+--------------+-------------+------------+-------------+---------+-----------------+------------------+--------------------+----------------+\n",
      "|      asin|                  id|class|helpfulTotalRatio|productRating|          reviewText|reviewTime|    reviewerID|        reviewerName|             summary|unixReviewTime|reviewUpvotes|reviewLength|summaryLength|isWeekend|productPopularity|  avgProductRating|helpfulRatioCategory|containsQuestion|\n",
      "+----------+--------------------+-----+-----------------+-------------+--------------------+----------+--------------+--------------------+--------------------+--------------+-------------+------------+-------------+---------+-----------------+------------------+--------------------+----------------+\n",
      "|7793224531|5a13242d741a2384e...|  1.0|             80.0|          4.0|this is a hdmi 13...|      NULL| ACNP9LJ391F3L|    Daniel R. Fisher|          HDMI Cable|    1287532800|            4|          62|           10|        0|                8|             4.625|                High|               0|\n",
      "|9990950369|5a13242d741a2384e...|  0.0|              0.0|          2.0|i cant find anyth...|      NULL| AH8BBUS7YCE64|           Ramy Eman|same like the ori...|    1239840000|            0|         256|           28|        0|                1|               2.0|                 Low|               0|\n",
      "|B00000J025|5a13242d741a2384e...|  1.0|        66.666664|          5.0|this vcr is absol...|      NULL| AEW48SRAO918T|Kevin W. Davis II...|The best VCR I ha...|    1159574400|            2|         490|           25|        0|                1|               5.0|                High|               0|\n",
      "|B00000J3Q1|5a13242d741a2384e...|  1.0|             70.0|          5.0|i had heard that ...|      NULL|A331P43K8VBX6G|Silvia L Ceravolo...|         Slim indeed|     970099200|            7|         387|           11|        0|               27|3.5925925925925926|                High|               0|\n",
      "|B00000J47G|5a13242d741a2384e...|  1.0|              0.0|          5.0|the canon battery...|      NULL|A1HVCYHQTH2T9Q|      Frederick Bley|       Canon Battery|    1143158400|            0|         109|           13|        0|                9|3.2222222222222223|                 Low|               0|\n",
      "|B00000JBK6|5a13242d741a2384e...|  1.0|             80.0|          4.0|these have never ...|      NULL|A1NVD0TKNS1GT5|Chad A. Lauterbac...|A great basic com...|     971222400|            8|         113|           30|        0|               10|               4.6|                High|               0|\n",
      "|B00000JBK6|5a13242d741a2384e...|  1.0|            100.0|          5.0|this speaker syst...|      NULL|A3U5OWYUUOSQ33|        Lou Michaels|ACS45 ALTEC LANSI...|    1138492800|            1|         339|           43|        0|               10|               4.6|                High|               0|\n",
      "|B00000JBK6|5a13242d741a2384e...|  1.0|            100.0|          5.0|i purchased these...|      NULL|A3OC9W0DACGI5A|       Jorge Deneira|Great Value, I wa...|    1018224000|            1|         552|           40|        0|               10|               4.6|                High|               0|\n",
      "|B00001W0DC|5a13242e741a2384e...|  0.0|        57.142857|          2.0|listening to musi...|      NULL|A296QHS9BLVFLH|           Aveek Roy|Listening to musi...|    1197331200|            4|         919|           36|        0|               45| 3.688888888888889|              Medium|               0|\n",
      "|B00001W0DC|5a13242e741a2384e...|  1.0|              0.0|          4.0|these are good fo...|      NULL|A2HKK2Y6ASR1S4|          --**--**--|Decent computer h...|    1402272000|            0|        1446|           26|        0|               45| 3.688888888888889|                 Low|               0|\n",
      "|B00001W0DC|5a13242e741a2384e...|  1.0|            100.0|          5.0|i do a morning ra...|      NULL|A32CIS93PXO3F6|     Jeannine Jersey|Great headphones ...|    1361145600|            1|         156|           30|        0|               45| 3.688888888888889|                High|               0|\n",
      "|B00001W0DC|5a13242e741a2384e...|  1.0|            100.0|          5.0|great inexpensive...|      NULL|A31G2NCCH8PTLV|          OnVacation|Sony V250 headphones|    1320796800|            1|         571|           20|        0|               45| 3.688888888888889|                High|               0|\n",
      "|B00001W0DC|5a13242e741a2384e...|  1.0|            100.0|          4.0|i got mine in nov...|      NULL|A2BK7LBCEWRREY|Mufaddal Photogra...|lasted for 2.5 ye...|    1122249600|            3|         736|           37|        0|               45| 3.688888888888889|                High|               0|\n",
      "|B00001W0DC|5a13242e741a2384e...|  1.0|            100.0|          5.0|i purchased this ...|      NULL|A25B1VFZ7JASAE|          Roy Wegner|               happy|    1361145600|            1|         135|            5|        0|               45| 3.688888888888889|                High|               0|\n",
      "|B00001W0DC|5a13242e741a2384e...|  1.0|            100.0|          4.0|i guess its a mat...|      NULL|A3BCL4NT7YRQHR|            Ryan Lee|          Good sound|    1355011200|            1|         331|           10|        0|               45| 3.688888888888889|                High|               0|\n",
      "|B00002S73F|5a13242e741a2384e...|  1.0|             80.0|          5.0|i wanted a sound ...|      NULL|  A64LAGL0J9YF|            NJ Keith|Guille-what?  Oh ...|     963446400|            4|         515|           46|        0|                6|3.8333333333333335|                High|               0|\n",
      "|B00003OPEV|5a13242e741a2384e...|  1.0|         85.71429|          5.0|had my emap for o...|      NULL|A2LVITRFTRCLKB|       AndyC \"AndyC\"|   A great GPS unit!|     972259200|           12|         795|           17|        0|               17| 4.235294117647059|                High|               0|\n",
      "|B00003OPEV|5a13242e741a2384e...|  1.0|         97.70992|          5.0|about 3 months ag...|      NULL| AOEKD7EG0SZXL|                Nate|Useful, Durable, ...|     956188800|          128|        1473|           21|        0|               17| 4.235294117647059|                High|               0|\n",
      "|B00003OPEV|5a13242e741a2384e...|  1.0|        19.047619|          5.0|this is james bon...|      NULL|A33UDQ21DV080O|     Steve B \"steve\"|           Too cool!|     962064000|            4|         244|            9|        0|               17| 4.235294117647059|                 Low|               0|\n",
      "|B000051YGZ|5a132431741a2384e...|  1.0|            100.0|          5.0|i have always use...|      NULL| ARNZ3BRXYKV3A|John McAdam \"John...|Completely satisf...|    1010534400|            6|        1593|           21|        0|               10|               4.7|                High|               0|\n",
      "+----------+--------------------+-----+-----------------+-------------+--------------------+----------+--------------+--------------------+--------------------+--------------+-------------+------------+-------------+---------+-----------------+------------------+--------------------+----------------+\n",
      "only showing top 20 rows\n",
      "\n"
     ]
    }
   ],
   "source": [
    "from pyspark.ml.feature import Tokenizer, StopWordsRemover, HashingTF, IDF\n",
    "from pyspark.ml import Pipeline\n",
    "\n",
    "\n",
    "\n",
    "fraction = 0.1\n",
    "\n",
    "# Downsample the dataframe\n",
    "cleaned_df = cleaned_df.sample(False, fraction, seed=42)\n",
    "\n",
    "# Preprocess the data\n",
    "tokenizer = Tokenizer(inputCol=\"reviewText\", outputCol=\"tokens\")\n",
    "remover = StopWordsRemover(inputCol=\"tokens\", outputCol=\"filtered_tokens\")\n",
    "hashingTF = HashingTF(inputCol=\"filtered_tokens\", outputCol=\"rawFeatures\")\n",
    "idf = IDF(inputCol=\"rawFeatures\", outputCol=\"features\")\n",
    "\n",
    "feature_pipeline = Pipeline(stages=[tokenizer, remover, hashingTF, idf])\n",
    "\n",
    "feature_model = feature_pipeline.fit(cleaned_df)\n",
    "\n",
    "dataset = feature_model.transform(cleaned_df)\n",
    "\n",
    "cleaned_df.show()\n"
   ]
  },
  {
   "cell_type": "markdown",
   "id": "6a341d84",
   "metadata": {},
   "source": [
    "## 3. Data Transformations"
   ]
  },
  {
   "cell_type": "code",
   "execution_count": 23,
   "id": "b7d05200",
   "metadata": {},
   "outputs": [
    {
     "data": {
      "text/plain": [
       "DataFrame[asin: string, id: string, class: double, helpfulTotalRatio: float, productRating: double, reviewText: string, reviewTime: timestamp, reviewerID: string, reviewerName: string, summary: string, unixReviewTime: bigint, reviewUpvotes: bigint, reviewLength: int, summaryLength: int, isWeekend: int, productPopularity: bigint, avgProductRating: double, helpfulRatioCategory: string, containsQuestion: int]"
      ]
     },
     "execution_count": 23,
     "metadata": {},
     "output_type": "execute_result"
    }
   ],
   "source": [
    "from pyspark.storagelevel import StorageLevel\n",
    "#giai phong cho bot lag nek \n",
    "cleaned_df.persist(StorageLevel.MEMORY_AND_DISK)"
   ]
  },
  {
   "cell_type": "markdown",
   "id": "0c149454",
   "metadata": {},
   "source": [
    "# 4. Machine Learning "
   ]
  },
  {
   "cell_type": "markdown",
   "id": "0b99c263",
   "metadata": {},
   "source": [
    "**Logistic Regression - Input: Review Text**"
   ]
  },
  {
   "cell_type": "code",
   "execution_count": 24,
   "id": "61d2ac7d",
   "metadata": {
    "scrolled": true
   },
   "outputs": [
    {
     "name": "stderr",
     "output_type": "stream",
     "text": [
      "24/10/11 18:35:38 WARN DAGScheduler: Broadcasting large task binary with size 4.2 MiB\n",
      "24/10/11 18:36:29 WARN DAGScheduler: Broadcasting large task binary with size 4.2 MiB\n",
      "24/10/11 18:36:39 WARN DAGScheduler: Broadcasting large task binary with size 4.2 MiB\n",
      "24/10/11 18:41:02 WARN DAGScheduler: Broadcasting large task binary with size 4.2 MiB\n",
      "24/10/11 18:41:09 WARN DAGScheduler: Broadcasting large task binary with size 4.2 MiB\n",
      "24/10/11 18:44:55 WARN DAGScheduler: Broadcasting large task binary with size 4.2 MiB\n",
      "24/10/11 18:44:58 WARN DAGScheduler: Broadcasting large task binary with size 4.2 MiB\n",
      "24/10/11 18:48:27 WARN DAGScheduler: Broadcasting large task binary with size 4.2 MiB\n",
      "24/10/11 18:48:30 WARN DAGScheduler: Broadcasting large task binary with size 4.2 MiB\n",
      "24/10/11 18:51:53 WARN DAGScheduler: Broadcasting large task binary with size 4.2 MiB\n",
      "24/10/11 18:51:59 WARN DAGScheduler: Broadcasting large task binary with size 4.2 MiB\n",
      "24/10/11 18:55:43 WARN DAGScheduler: Broadcasting large task binary with size 4.2 MiB\n",
      "24/10/11 18:56:10 WARN DAGScheduler: Broadcasting large task binary with size 4.2 MiB\n",
      "24/10/11 18:59:23 WARN DAGScheduler: Broadcasting large task binary with size 4.2 MiB\n",
      "24/10/11 18:59:28 WARN DAGScheduler: Broadcasting large task binary with size 4.2 MiB\n",
      "24/10/11 19:02:55 WARN DAGScheduler: Broadcasting large task binary with size 4.2 MiB\n",
      "24/10/11 19:03:08 WARN DAGScheduler: Broadcasting large task binary with size 4.2 MiB\n",
      "24/10/11 19:06:00 WARN DAGScheduler: Broadcasting large task binary with size 4.2 MiB\n",
      "24/10/11 19:06:04 WARN DAGScheduler: Broadcasting large task binary with size 4.2 MiB\n",
      "24/10/11 19:08:48 WARN DAGScheduler: Broadcasting large task binary with size 4.2 MiB\n",
      "24/10/11 19:08:50 WARN DAGScheduler: Broadcasting large task binary with size 4.2 MiB\n",
      "24/10/11 19:11:53 WARN DAGScheduler: Broadcasting large task binary with size 4.2 MiB\n",
      "24/10/11 19:11:56 WARN DAGScheduler: Broadcasting large task binary with size 4.2 MiB\n",
      "24/10/11 19:14:33 WARN DAGScheduler: Broadcasting large task binary with size 4.2 MiB\n",
      "24/10/11 19:14:50 WARN DAGScheduler: Broadcasting large task binary with size 4.2 MiB\n",
      "24/10/11 19:17:44 WARN DAGScheduler: Broadcasting large task binary with size 4.2 MiB\n",
      "24/10/11 19:17:48 WARN DAGScheduler: Broadcasting large task binary with size 4.2 MiB\n",
      "24/10/11 19:20:06 WARN DAGScheduler: Broadcasting large task binary with size 4.2 MiB\n",
      "24/10/11 19:20:07 WARN DAGScheduler: Broadcasting large task binary with size 4.2 MiB\n",
      "24/10/11 19:22:36 WARN DAGScheduler: Broadcasting large task binary with size 4.2 MiB\n",
      "24/10/11 19:22:39 WARN DAGScheduler: Broadcasting large task binary with size 4.2 MiB\n",
      "24/10/11 19:24:53 WARN DAGScheduler: Broadcasting large task binary with size 4.2 MiB\n",
      "24/10/11 19:24:55 WARN DAGScheduler: Broadcasting large task binary with size 4.2 MiB\n",
      "24/10/11 19:27:12 WARN DAGScheduler: Broadcasting large task binary with size 4.2 MiB\n",
      "24/10/11 19:27:14 WARN DAGScheduler: Broadcasting large task binary with size 4.2 MiB\n",
      "24/10/11 19:29:45 WARN DAGScheduler: Broadcasting large task binary with size 4.2 MiB\n",
      "24/10/11 19:29:48 WARN DAGScheduler: Broadcasting large task binary with size 4.2 MiB\n",
      "24/10/11 19:31:56 WARN DAGScheduler: Broadcasting large task binary with size 4.2 MiB\n",
      "24/10/11 19:31:58 WARN DAGScheduler: Broadcasting large task binary with size 4.2 MiB\n",
      "24/10/11 19:34:17 WARN DAGScheduler: Broadcasting large task binary with size 4.2 MiB\n",
      "24/10/11 19:34:19 WARN DAGScheduler: Broadcasting large task binary with size 4.2 MiB\n",
      "24/10/11 19:36:31 WARN DAGScheduler: Broadcasting large task binary with size 4.2 MiB\n",
      "24/10/11 19:36:33 WARN DAGScheduler: Broadcasting large task binary with size 4.2 MiB\n",
      "24/10/11 19:38:56 WARN DAGScheduler: Broadcasting large task binary with size 4.2 MiB\n",
      "24/10/11 19:38:59 WARN DAGScheduler: Broadcasting large task binary with size 4.2 MiB\n",
      "24/10/11 19:41:14 WARN DAGScheduler: Broadcasting large task binary with size 4.2 MiB\n",
      "24/10/11 19:41:17 WARN DAGScheduler: Broadcasting large task binary with size 4.2 MiB\n",
      "24/10/11 19:43:29 WARN DAGScheduler: Broadcasting large task binary with size 4.2 MiB\n",
      "24/10/11 19:43:30 WARN DAGScheduler: Broadcasting large task binary with size 4.2 MiB\n",
      "24/10/11 19:45:51 WARN DAGScheduler: Broadcasting large task binary with size 4.2 MiB\n",
      "24/10/11 19:45:53 WARN DAGScheduler: Broadcasting large task binary with size 4.2 MiB\n",
      "24/10/11 19:48:12 WARN DAGScheduler: Broadcasting large task binary with size 4.2 MiB\n",
      "24/10/11 19:48:14 WARN DAGScheduler: Broadcasting large task binary with size 4.2 MiB\n",
      "24/10/11 19:50:20 WARN DAGScheduler: Broadcasting large task binary with size 4.2 MiB\n",
      "24/10/11 19:50:22 WARN DAGScheduler: Broadcasting large task binary with size 4.2 MiB\n",
      "24/10/11 19:52:36 WARN DAGScheduler: Broadcasting large task binary with size 4.2 MiB\n",
      "24/10/11 19:52:39 WARN DAGScheduler: Broadcasting large task binary with size 4.2 MiB\n",
      "24/10/11 19:55:10 WARN DAGScheduler: Broadcasting large task binary with size 4.2 MiB\n",
      "24/10/11 19:55:13 WARN DAGScheduler: Broadcasting large task binary with size 4.2 MiB\n",
      "24/10/11 19:57:21 WARN DAGScheduler: Broadcasting large task binary with size 4.2 MiB\n",
      "24/10/11 19:57:23 WARN DAGScheduler: Broadcasting large task binary with size 4.2 MiB\n",
      "24/10/11 20:00:06 WARN DAGScheduler: Broadcasting large task binary with size 4.2 MiB\n",
      "24/10/11 20:00:09 WARN DAGScheduler: Broadcasting large task binary with size 4.2 MiB\n",
      "24/10/11 20:02:23 WARN DAGScheduler: Broadcasting large task binary with size 4.2 MiB\n",
      "24/10/11 20:02:26 WARN DAGScheduler: Broadcasting large task binary with size 4.2 MiB\n",
      "24/10/11 20:04:37 WARN DAGScheduler: Broadcasting large task binary with size 4.2 MiB\n",
      "24/10/11 20:04:40 WARN DAGScheduler: Broadcasting large task binary with size 4.2 MiB\n",
      "24/10/11 20:06:48 WARN DAGScheduler: Broadcasting large task binary with size 4.2 MiB\n",
      "24/10/11 20:06:51 WARN DAGScheduler: Broadcasting large task binary with size 4.2 MiB\n",
      "24/10/11 20:09:04 WARN DAGScheduler: Broadcasting large task binary with size 4.2 MiB\n",
      "24/10/11 20:09:07 WARN DAGScheduler: Broadcasting large task binary with size 4.2 MiB\n",
      "24/10/11 20:11:22 WARN DAGScheduler: Broadcasting large task binary with size 4.2 MiB\n",
      "24/10/11 20:11:24 WARN DAGScheduler: Broadcasting large task binary with size 4.2 MiB\n",
      "24/10/11 20:13:34 WARN DAGScheduler: Broadcasting large task binary with size 4.2 MiB\n",
      "24/10/11 20:13:36 WARN DAGScheduler: Broadcasting large task binary with size 4.2 MiB\n",
      "24/10/11 20:15:52 WARN DAGScheduler: Broadcasting large task binary with size 4.2 MiB\n",
      "24/10/11 20:15:55 WARN DAGScheduler: Broadcasting large task binary with size 4.2 MiB\n",
      "24/10/11 20:18:08 WARN DAGScheduler: Broadcasting large task binary with size 4.2 MiB\n",
      "24/10/11 20:18:10 WARN DAGScheduler: Broadcasting large task binary with size 4.2 MiB\n",
      "24/10/11 20:20:17 WARN DAGScheduler: Broadcasting large task binary with size 4.2 MiB\n",
      "24/10/11 20:20:19 WARN DAGScheduler: Broadcasting large task binary with size 4.2 MiB\n",
      "24/10/11 20:22:28 WARN DAGScheduler: Broadcasting large task binary with size 4.2 MiB\n",
      "24/10/11 20:22:30 WARN DAGScheduler: Broadcasting large task binary with size 4.2 MiB\n",
      "24/10/11 20:24:44 WARN DAGScheduler: Broadcasting large task binary with size 4.2 MiB\n",
      "24/10/11 20:24:48 WARN DAGScheduler: Broadcasting large task binary with size 4.2 MiB\n",
      "24/10/11 20:26:57 WARN DAGScheduler: Broadcasting large task binary with size 4.2 MiB\n",
      "24/10/11 20:27:01 WARN DAGScheduler: Broadcasting large task binary with size 4.2 MiB\n",
      "24/10/11 20:29:16 WARN DAGScheduler: Broadcasting large task binary with size 4.2 MiB\n",
      "24/10/11 20:29:18 WARN DAGScheduler: Broadcasting large task binary with size 4.2 MiB\n",
      "24/10/11 20:31:28 WARN DAGScheduler: Broadcasting large task binary with size 4.2 MiB\n",
      "24/10/11 20:31:30 WARN DAGScheduler: Broadcasting large task binary with size 4.2 MiB\n",
      "24/10/11 20:33:38 WARN DAGScheduler: Broadcasting large task binary with size 4.2 MiB\n",
      "24/10/11 20:33:39 WARN DAGScheduler: Broadcasting large task binary with size 4.2 MiB\n",
      "24/10/11 20:35:49 WARN DAGScheduler: Broadcasting large task binary with size 4.2 MiB\n",
      "24/10/11 20:35:51 WARN DAGScheduler: Broadcasting large task binary with size 4.2 MiB\n"
     ]
    },
    {
     "name": "stderr",
     "output_type": "stream",
     "text": [
      "24/10/11 20:38:02 WARN DAGScheduler: Broadcasting large task binary with size 4.2 MiB\n",
      "24/10/11 20:38:04 WARN DAGScheduler: Broadcasting large task binary with size 4.2 MiB\n",
      "24/10/11 20:40:13 WARN DAGScheduler: Broadcasting large task binary with size 4.2 MiB\n",
      "24/10/11 20:40:15 WARN DAGScheduler: Broadcasting large task binary with size 4.2 MiB\n",
      "24/10/11 20:42:21 WARN DAGScheduler: Broadcasting large task binary with size 4.2 MiB\n",
      "24/10/11 20:42:23 WARN DAGScheduler: Broadcasting large task binary with size 4.2 MiB\n",
      "24/10/11 20:44:31 WARN DAGScheduler: Broadcasting large task binary with size 4.2 MiB\n",
      "24/10/11 20:44:33 WARN DAGScheduler: Broadcasting large task binary with size 4.2 MiB\n",
      "24/10/11 20:47:09 WARN DAGScheduler: Broadcasting large task binary with size 4.2 MiB\n",
      "24/10/11 20:47:11 WARN DAGScheduler: Broadcasting large task binary with size 4.2 MiB\n",
      "24/10/11 20:49:23 WARN DAGScheduler: Broadcasting large task binary with size 4.2 MiB\n",
      "24/10/11 20:49:26 WARN DAGScheduler: Broadcasting large task binary with size 4.2 MiB\n",
      "24/10/11 20:51:36 WARN DAGScheduler: Broadcasting large task binary with size 4.2 MiB\n",
      "24/10/11 20:51:38 WARN DAGScheduler: Broadcasting large task binary with size 4.2 MiB\n",
      "24/10/11 20:53:49 WARN DAGScheduler: Broadcasting large task binary with size 4.2 MiB\n",
      "24/10/11 20:53:51 WARN DAGScheduler: Broadcasting large task binary with size 4.2 MiB\n",
      "24/10/11 20:56:19 WARN DAGScheduler: Broadcasting large task binary with size 4.2 MiB\n",
      "24/10/11 20:56:21 WARN DAGScheduler: Broadcasting large task binary with size 4.2 MiB\n",
      "24/10/11 20:58:58 WARN DAGScheduler: Broadcasting large task binary with size 4.2 MiB\n",
      "24/10/11 20:59:01 WARN DAGScheduler: Broadcasting large task binary with size 4.2 MiB\n",
      "24/10/11 21:01:19 WARN DAGScheduler: Broadcasting large task binary with size 4.2 MiB\n",
      "24/10/11 21:01:21 WARN DAGScheduler: Broadcasting large task binary with size 4.2 MiB\n",
      "24/10/11 21:03:33 WARN DAGScheduler: Broadcasting large task binary with size 4.2 MiB\n",
      "24/10/11 21:03:35 WARN DAGScheduler: Broadcasting large task binary with size 4.2 MiB\n",
      "24/10/11 21:06:05 WARN DAGScheduler: Broadcasting large task binary with size 4.2 MiB\n",
      "24/10/11 21:06:07 WARN DAGScheduler: Broadcasting large task binary with size 4.2 MiB\n",
      "24/10/11 21:08:18 WARN DAGScheduler: Broadcasting large task binary with size 4.2 MiB\n",
      "24/10/11 21:08:20 WARN DAGScheduler: Broadcasting large task binary with size 4.2 MiB\n",
      "24/10/11 21:10:28 WARN DAGScheduler: Broadcasting large task binary with size 4.2 MiB\n",
      "24/10/11 21:10:30 WARN DAGScheduler: Broadcasting large task binary with size 4.2 MiB\n",
      "24/10/11 21:12:37 WARN DAGScheduler: Broadcasting large task binary with size 4.2 MiB\n",
      "24/10/11 21:12:40 WARN DAGScheduler: Broadcasting large task binary with size 4.2 MiB\n",
      "24/10/11 21:14:46 WARN DAGScheduler: Broadcasting large task binary with size 4.2 MiB\n",
      "24/10/11 21:14:48 WARN DAGScheduler: Broadcasting large task binary with size 4.2 MiB\n",
      "24/10/11 21:17:29 WARN DAGScheduler: Broadcasting large task binary with size 4.2 MiB\n",
      "24/10/11 21:17:32 WARN DAGScheduler: Broadcasting large task binary with size 4.2 MiB\n",
      "24/10/11 21:19:46 WARN DAGScheduler: Broadcasting large task binary with size 4.2 MiB\n",
      "24/10/11 21:19:49 WARN DAGScheduler: Broadcasting large task binary with size 4.2 MiB\n",
      "24/10/11 21:22:01 WARN DAGScheduler: Broadcasting large task binary with size 4.2 MiB\n",
      "24/10/11 21:22:03 WARN DAGScheduler: Broadcasting large task binary with size 4.2 MiB\n",
      "24/10/11 21:24:16 WARN DAGScheduler: Broadcasting large task binary with size 4.2 MiB\n",
      "24/10/11 21:24:18 WARN DAGScheduler: Broadcasting large task binary with size 4.2 MiB\n",
      "24/10/11 21:26:33 WARN DAGScheduler: Broadcasting large task binary with size 4.2 MiB\n",
      "24/10/11 21:26:35 WARN DAGScheduler: Broadcasting large task binary with size 4.2 MiB\n",
      "24/10/11 21:29:21 WARN DAGScheduler: Broadcasting large task binary with size 4.2 MiB\n",
      "24/10/11 21:29:24 WARN DAGScheduler: Broadcasting large task binary with size 4.2 MiB\n",
      "24/10/11 21:31:30 WARN DAGScheduler: Broadcasting large task binary with size 4.2 MiB\n",
      "24/10/11 21:31:33 WARN DAGScheduler: Broadcasting large task binary with size 4.2 MiB\n",
      "24/10/11 21:33:40 WARN DAGScheduler: Broadcasting large task binary with size 4.2 MiB\n",
      "24/10/11 21:33:43 WARN DAGScheduler: Broadcasting large task binary with size 4.2 MiB\n",
      "24/10/11 21:35:51 WARN DAGScheduler: Broadcasting large task binary with size 4.2 MiB\n",
      "24/10/11 21:35:53 WARN DAGScheduler: Broadcasting large task binary with size 4.2 MiB\n",
      "24/10/11 21:38:13 WARN DAGScheduler: Broadcasting large task binary with size 4.2 MiB\n",
      "24/10/11 21:38:15 WARN DAGScheduler: Broadcasting large task binary with size 4.2 MiB\n",
      "24/10/11 21:40:26 WARN DAGScheduler: Broadcasting large task binary with size 4.2 MiB\n",
      "24/10/11 21:40:28 WARN DAGScheduler: Broadcasting large task binary with size 4.2 MiB\n",
      "24/10/11 21:42:37 WARN DAGScheduler: Broadcasting large task binary with size 4.2 MiB\n",
      "24/10/11 21:42:38 WARN DAGScheduler: Broadcasting large task binary with size 4.2 MiB\n",
      "24/10/11 21:44:48 WARN DAGScheduler: Broadcasting large task binary with size 4.2 MiB\n",
      "24/10/11 21:44:50 WARN DAGScheduler: Broadcasting large task binary with size 4.2 MiB\n",
      "24/10/11 21:47:07 WARN DAGScheduler: Broadcasting large task binary with size 4.2 MiB\n",
      "24/10/11 21:47:09 WARN DAGScheduler: Broadcasting large task binary with size 4.2 MiB\n",
      "24/10/11 21:50:12 WARN DAGScheduler: Broadcasting large task binary with size 4.2 MiB\n",
      "24/10/11 21:50:14 WARN DAGScheduler: Broadcasting large task binary with size 4.2 MiB\n",
      "24/10/11 21:52:23 WARN DAGScheduler: Broadcasting large task binary with size 4.2 MiB\n",
      "24/10/11 21:52:25 WARN DAGScheduler: Broadcasting large task binary with size 4.2 MiB\n",
      "24/10/11 21:54:34 WARN DAGScheduler: Broadcasting large task binary with size 4.2 MiB\n",
      "24/10/11 21:54:37 WARN DAGScheduler: Broadcasting large task binary with size 4.2 MiB\n",
      "24/10/11 21:56:53 WARN DAGScheduler: Broadcasting large task binary with size 4.2 MiB\n",
      "24/10/11 21:56:55 WARN DAGScheduler: Broadcasting large task binary with size 4.2 MiB\n",
      "24/10/11 21:59:26 WARN DAGScheduler: Broadcasting large task binary with size 4.2 MiB\n",
      "24/10/11 21:59:28 WARN DAGScheduler: Broadcasting large task binary with size 4.2 MiB\n",
      "24/10/11 22:01:53 WARN DAGScheduler: Broadcasting large task binary with size 4.2 MiB\n",
      "24/10/11 22:01:56 WARN DAGScheduler: Broadcasting large task binary with size 4.2 MiB\n",
      "24/10/11 22:04:15 WARN DAGScheduler: Broadcasting large task binary with size 4.2 MiB\n",
      "24/10/11 22:04:17 WARN DAGScheduler: Broadcasting large task binary with size 4.2 MiB\n",
      "24/10/11 22:06:45 WARN DAGScheduler: Broadcasting large task binary with size 4.2 MiB\n",
      "24/10/11 22:06:48 WARN DAGScheduler: Broadcasting large task binary with size 4.2 MiB\n",
      "24/10/11 22:09:30 WARN DAGScheduler: Broadcasting large task binary with size 4.2 MiB\n",
      "24/10/11 22:09:34 WARN DAGScheduler: Broadcasting large task binary with size 4.2 MiB\n",
      "24/10/11 22:12:27 WARN DAGScheduler: Broadcasting large task binary with size 4.2 MiB\n",
      "24/10/11 22:12:31 WARN DAGScheduler: Broadcasting large task binary with size 4.2 MiB\n",
      "24/10/11 22:15:15 WARN DAGScheduler: Broadcasting large task binary with size 4.2 MiB\n",
      "24/10/11 22:15:18 WARN DAGScheduler: Broadcasting large task binary with size 4.2 MiB\n",
      "24/10/11 22:17:58 WARN DAGScheduler: Broadcasting large task binary with size 4.2 MiB\n",
      "24/10/11 22:18:01 WARN DAGScheduler: Broadcasting large task binary with size 4.2 MiB\n",
      "24/10/11 22:20:32 WARN DAGScheduler: Broadcasting large task binary with size 4.2 MiB\n",
      "24/10/11 22:20:35 WARN DAGScheduler: Broadcasting large task binary with size 4.2 MiB\n",
      "24/10/11 22:23:43 WARN DAGScheduler: Broadcasting large task binary with size 4.2 MiB\n",
      "24/10/11 22:23:45 WARN DAGScheduler: Broadcasting large task binary with size 4.2 MiB\n",
      "24/10/11 22:26:32 WARN DAGScheduler: Broadcasting large task binary with size 4.2 MiB\n",
      "24/10/11 22:26:34 WARN DAGScheduler: Broadcasting large task binary with size 4.2 MiB\n",
      "24/10/11 22:29:33 WARN DAGScheduler: Broadcasting large task binary with size 4.2 MiB\n",
      "24/10/11 22:29:36 WARN DAGScheduler: Broadcasting large task binary with size 4.2 MiB\n",
      "24/10/11 22:32:11 WARN DAGScheduler: Broadcasting large task binary with size 4.2 MiB\n"
     ]
    },
    {
     "name": "stderr",
     "output_type": "stream",
     "text": [
      "24/10/11 22:32:14 WARN DAGScheduler: Broadcasting large task binary with size 4.2 MiB\n",
      "24/10/11 22:34:48 WARN DAGScheduler: Broadcasting large task binary with size 4.2 MiB\n",
      "24/10/11 22:34:50 WARN DAGScheduler: Broadcasting large task binary with size 4.2 MiB\n",
      "24/10/11 22:37:24 WARN DAGScheduler: Broadcasting large task binary with size 4.2 MiB\n",
      "24/10/11 22:37:25 WARN DAGScheduler: Broadcasting large task binary with size 4.2 MiB\n",
      "24/10/11 22:39:41 WARN DAGScheduler: Broadcasting large task binary with size 4.2 MiB\n",
      "24/10/11 22:39:44 WARN DAGScheduler: Broadcasting large task binary with size 4.2 MiB\n",
      "24/10/11 22:42:21 WARN DAGScheduler: Broadcasting large task binary with size 4.2 MiB\n",
      "24/10/11 22:42:23 WARN DAGScheduler: Broadcasting large task binary with size 4.2 MiB\n",
      "24/10/11 22:44:54 WARN DAGScheduler: Broadcasting large task binary with size 4.2 MiB\n",
      "24/10/11 22:44:56 WARN DAGScheduler: Broadcasting large task binary with size 4.2 MiB\n",
      "24/10/11 22:47:33 WARN DAGScheduler: Broadcasting large task binary with size 4.2 MiB\n",
      "24/10/11 22:47:40 WARN DAGScheduler: Broadcasting large task binary with size 4.2 MiB\n",
      "24/10/11 22:50:27 WARN DAGScheduler: Broadcasting large task binary with size 4.2 MiB\n",
      "                                                                                \r"
     ]
    }
   ],
   "source": [
    "from pyspark.ml.feature import Tokenizer, StopWordsRemover, HashingTF, IDF\n",
    "from pyspark.ml.classification import LogisticRegression\n",
    "from pyspark.ml import Pipeline\n",
    "\n",
    "# Preprocess the data\n",
    "tokenizer = Tokenizer(inputCol=\"reviewText\", outputCol=\"tokens\")\n",
    "remover = StopWordsRemover(inputCol=\"tokens\", outputCol=\"filtered_tokens\")\n",
    "hashingTF = HashingTF(inputCol=\"filtered_tokens\", outputCol=\"rawFeatures\")\n",
    "idf = IDF(inputCol=\"rawFeatures\", outputCol=\"features\")\n",
    "\n",
    "# Build the logistic regression model\n",
    "lr = LogisticRegression(labelCol=\"class\")\n",
    "\n",
    "# Construct the pipeline\n",
    "pipeline = Pipeline(stages=[tokenizer, remover, hashingTF, idf, lr])\n",
    "\n",
    "# Train the model\n",
    "model = pipeline.fit(cleaned_df)\n",
    "\n",
    "# Predict on the whole dataset\n",
    "predictions = model.transform(cleaned_df)"
   ]
  },
  {
   "cell_type": "code",
   "execution_count": 25,
   "id": "aed4f5d9",
   "metadata": {},
   "outputs": [],
   "source": [
    "## save model in local\n",
    "# model.save(\"/home/phuc03/spark/modelLog_Regression\")"
   ]
  },
  {
   "cell_type": "markdown",
   "id": "010ba821",
   "metadata": {},
   "source": [
    "**đánh giá mô hình **"
   ]
  },
  {
   "cell_type": "code",
   "execution_count": 26,
   "id": "b2565da6",
   "metadata": {},
   "outputs": [
    {
     "name": "stderr",
     "output_type": "stream",
     "text": [
      "24/10/11 22:50:36 WARN DAGScheduler: Broadcasting large task binary with size 6.2 MiB\n",
      "                                                                                \r"
     ]
    },
    {
     "name": "stdout",
     "output_type": "stream",
     "text": [
      "Accuracy = 0.950157\n"
     ]
    },
    {
     "name": "stderr",
     "output_type": "stream",
     "text": [
      "24/10/11 22:51:43 WARN DAGScheduler: Broadcasting large task binary with size 6.2 MiB\n",
      "                                                                                \r"
     ]
    },
    {
     "name": "stdout",
     "output_type": "stream",
     "text": [
      "F1 score = 0.949625\n"
     ]
    },
    {
     "name": "stderr",
     "output_type": "stream",
     "text": [
      "24/10/11 22:52:44 WARN DAGScheduler: Broadcasting large task binary with size 6.2 MiB\n",
      "[Stage 593:===================================================> (196 + 4) / 200]\r"
     ]
    },
    {
     "name": "stdout",
     "output_type": "stream",
     "text": [
      "Area under ROC = 0.983866\n"
     ]
    },
    {
     "name": "stderr",
     "output_type": "stream",
     "text": [
      "\r\n",
      "                                                                                \r"
     ]
    }
   ],
   "source": [
    "from pyspark.ml.evaluation import MulticlassClassificationEvaluator, BinaryClassificationEvaluator\n",
    "\n",
    "# Chọn (dự đoán, nhãn đúng) và tính toán lỗi kiểm tra => class , prediction , accuracy\n",
    "evaluator = MulticlassClassificationEvaluator(\n",
    "    labelCol=\"class\", predictionCol=\"prediction\", metricName=\"accuracy\")\n",
    "accuracy = evaluator.evaluate(predictions)\n",
    "print(\"Accuracy = %g\" % accuracy)\n",
    "\n",
    "# F1 score \n",
    "evaluatorf1 = MulticlassClassificationEvaluator(\n",
    "    labelCol=\"class\", predictionCol=\"prediction\", metricName=\"f1\")\n",
    "f1 = evaluatorf1.evaluate(predictions)\n",
    "print(\"F1 score = %g\" % f1)\n",
    "\n",
    "# binary => sử dụng BinaryClassificationEvaluator để lấy AreaUnderROC\n",
    "if cleaned_df.select(\"class\").distinct().count() == 2:\n",
    "    binary_evaluator = BinaryClassificationEvaluator(labelCol=\"class\")\n",
    "    auc = binary_evaluator.evaluate(predictions, {binary_evaluator.metricName: \"areaUnderROC\"})\n",
    "    print(\"Area under ROC = %g\" % auc)"
   ]
  },
  {
   "cell_type": "markdown",
   "id": "9438f0ba",
   "metadata": {},
   "source": [
    "**Tính toán các chỉ số phân loại đa lớp**"
   ]
  },
  {
   "cell_type": "code",
   "execution_count": 27,
   "id": "15145766",
   "metadata": {},
   "outputs": [
    {
     "name": "stderr",
     "output_type": "stream",
     "text": [
      "/home/phuc03/spark/python/pyspark/sql/context.py:158: FutureWarning: Deprecated in 3.0.0. Use SparkSession.builder.getOrCreate() instead.\n",
      "  warnings.warn(\n",
      "24/10/11 22:54:33 WARN DAGScheduler: Broadcasting large task binary with size 6.2 MiB\n",
      "24/10/11 22:54:37 WARN DAGScheduler: Broadcasting large task binary with size 6.2 MiB\n",
      "                                                                                \r"
     ]
    }
   ],
   "source": [
    "\n",
    "from pyspark.mllib.evaluation import MulticlassMetrics\n",
    "\n",
    "# Chuyển đổi loại cột DataFrame từ vector sang float\n",
    "predictionAndLabel = predictions.select(\"prediction\", \"class\").rdd.map(lambda x: (float(x[0]), float(x[1])))\n",
    "\n",
    "# Khởi tạo đối tượng số liệu\n",
    "metrics = MulticlassMetrics(predictionAndLabel)\n",
    "\n",
    "# Nhận ma trận nhầm lẫn\n",
    "confusion_matrix = metrics.confusionMatrix().toArray()\n"
   ]
  },
  {
   "cell_type": "markdown",
   "id": "8dbe38d2",
   "metadata": {},
   "source": [
    "# 5. Data Visualize  "
   ]
  },
  {
   "cell_type": "code",
   "execution_count": 29,
   "id": "4b5018a5",
   "metadata": {},
   "outputs": [
    {
     "data": {
      "image/png": "[encoded data removed]",
      "text/plain": [
       "<Figure size 1000x700 with 2 Axes>"
      ]
     },
     "metadata": {},
     "output_type": "display_data"
    }
   ],
   "source": [
    "import seaborn as sns\n",
    "import matplotlib.pyplot as plt\n",
    "\n",
    "# Plot confusion matrix\n",
    "plt.figure(figsize=(10,7))\n",
    "sns.heatmap(confusion_matrix, annot=True, fmt=\".0f\")\n",
    "plt.xlabel('Predicted')\n",
    "plt.ylabel('Actual')\n",
    "plt.show()"
   ]
  },
  {
   "cell_type": "markdown",
   "id": "d9cd12e8",
   "metadata": {},
   "source": [
    "## 5.1. Chuẩn bị dữ liệu để huấn luyện và kiểm tra các mô hình phân loại "
   ]
  },
  {
   "cell_type": "code",
   "execution_count": 31,
   "id": "0a67f0b5",
   "metadata": {},
   "outputs": [],
   "source": [
    "from pyspark.ml.feature import VectorAssembler\n",
    "train_data, test_data = cleaned_df.randomSplit([0.7, 0.3], seed=42) # 7:3 train 7 test 3\n",
    "assembler = VectorAssembler(\n",
    "    inputCols=['helpfulTotalRatio', 'reviewLength', 'summaryLength', 'isWeekend', 'productPopularity', 'avgProductRating', 'containsQuestion'],\n",
    "    outputCol='features')\n",
    "\n",
    "train_data = assembler.transform(train_data)\n",
    "test_data = assembler.transform(test_data)\n"
   ]
  },
  {
   "cell_type": "markdown",
   "id": "f7f7ff39",
   "metadata": {},
   "source": [
    "***Input vector : ['helpfulTotalRatio', 'reviewLength', 'summaryLength', 'isWeekend', 'productPopularity', 'avgProductRating', 'containsQuestion']***"
   ]
  },
  {
   "cell_type": "markdown",
   "id": "3150734e",
   "metadata": {},
   "source": [
    "# 6. DEEP LEARNING"
   ]
  },
  {
   "cell_type": "markdown",
   "id": "99be4eb4",
   "metadata": {},
   "source": [
    "## 6.1 Decision Tree"
   ]
  },
  {
   "cell_type": "code",
   "execution_count": 32,
   "id": "c15a8aa6",
   "metadata": {},
   "outputs": [
    {
     "name": "stderr",
     "output_type": "stream",
     "text": [
      "                                                                                \r"
     ]
    }
   ],
   "source": [
    "from pyspark.ml.feature import VectorAssembler\n",
    "dt = DecisionTreeClassifier(labelCol=\"class\", featuresCol=\"features\")\n",
    "evaluator = MulticlassClassificationEvaluator(metricName=\"accuracy\")\n",
    "\n",
    "\n",
    "model = dt.fit(train_data)\n"
   ]
  },
  {
   "cell_type": "code",
   "execution_count": 33,
   "id": "a0628609",
   "metadata": {},
   "outputs": [
    {
     "name": "stderr",
     "output_type": "stream",
     "text": [
      "[Stage 654:=====================================>              (146 + 10) / 200]\r"
     ]
    },
    {
     "name": "stdout",
     "output_type": "stream",
     "text": [
      "Test Accuracy =  0.7838768331286129\n"
     ]
    },
    {
     "name": "stderr",
     "output_type": "stream",
     "text": [
      "\r\n",
      "[Stage 654:===============================================>    (181 + 10) / 200]\r\n",
      "\r\n",
      "                                                                                \r"
     ]
    }
   ],
   "source": [
    "predictions = model.transform(test_data)\n",
    "evaluator = MulticlassClassificationEvaluator(labelCol=\"class\", predictionCol=\"prediction\", metricName=\"accuracy\")\n",
    "\n",
    "# Tính toán accuracy tren tap test\n",
    "accuracy = evaluator.evaluate(predictions)\n",
    "\n",
    "print(\"Test Accuracy = \", accuracy)"
   ]
  },
  {
   "cell_type": "markdown",
   "id": "9f2fa304",
   "metadata": {},
   "source": [
    "## 6.2 Random Forest"
   ]
  },
  {
   "cell_type": "code",
   "execution_count": 34,
   "id": "6aa343ac",
   "metadata": {},
   "outputs": [
    {
     "name": "stderr",
     "output_type": "stream",
     "text": [
      "                                                                                \r"
     ]
    }
   ],
   "source": [
    "rf = RandomForestClassifier(labelCol=\"class\", featuresCol=\"features\")\n",
    "model = rf.fit(train_data)"
   ]
  },
  {
   "cell_type": "code",
   "execution_count": 35,
   "id": "6263876b",
   "metadata": {},
   "outputs": [
    {
     "name": "stderr",
     "output_type": "stream",
     "text": [
      "[Stage 705:================================================>   (185 + 12) / 200]\r"
     ]
    },
    {
     "name": "stdout",
     "output_type": "stream",
     "text": [
      "Test Accuracy =  0.7839780927097504\n"
     ]
    },
    {
     "name": "stderr",
     "output_type": "stream",
     "text": [
      "\r\n",
      "                                                                                \r"
     ]
    }
   ],
   "source": [
    "predictions = model.transform(test_data)\n",
    "evaluator = MulticlassClassificationEvaluator(labelCol=\"class\", predictionCol=\"prediction\", metricName=\"accuracy\")\n",
    "\n",
    "# Tính toán accuracy tren tap test\n",
    "accuracy = evaluator.evaluate(predictions)\n",
    "\n",
    "print(\"Test Accuracy = \", accuracy)"
   ]
  },
  {
   "cell_type": "code",
   "execution_count": null,
   "id": "e919e31d",
   "metadata": {},
   "outputs": [],
   "source": [
    "## 6.3 Gradient Boosted Trees"
   ]
  },
  {
   "cell_type": "code",
   "execution_count": 36,
   "id": "05ceb2a0",
   "metadata": {},
   "outputs": [
    {
     "name": "stderr",
     "output_type": "stream",
     "text": [
      "                                                                                \r"
     ]
    }
   ],
   "source": [
    "gbt = GBTClassifier(labelCol=\"class\", featuresCol=\"features\")\n",
    "gbt_model = gbt.fit(train_data)"
   ]
  },
  {
   "cell_type": "code",
   "execution_count": 37,
   "id": "81536bd3",
   "metadata": {},
   "outputs": [
    {
     "name": "stderr",
     "output_type": "stream",
     "text": [
      "[Stage 1224:=======================================>           (154 + 10) / 200]\r"
     ]
    },
    {
     "name": "stdout",
     "output_type": "stream",
     "text": [
      "Test Accuracy =  0.793069442059708\n"
     ]
    },
    {
     "name": "stderr",
     "output_type": "stream",
     "text": [
      "\r\n",
      "                                                                                \r"
     ]
    }
   ],
   "source": [
    "predictions = gbt_model.transform(test_data)\n",
    "evaluator = MulticlassClassificationEvaluator(labelCol=\"class\", predictionCol=\"prediction\", metricName=\"accuracy\")\n",
    "\n",
    "# Compute the accuracy on the test data\n",
    "accuracy = evaluator.evaluate(predictions)\n",
    "\n",
    "print(\"Test Accuracy = \", accuracy)"
   ]
  },
  {
   "cell_type": "markdown",
   "id": "1e82ec30",
   "metadata": {},
   "source": [
    "# 7. Conclude"
   ]
  },
  {
   "cell_type": "markdown",
   "id": "3053909b",
   "metadata": {},
   "source": [
    "**Input : Review Text**"
   ]
  },
  {
   "cell_type": "code",
   "execution_count": 38,
   "id": "f7cc3fec",
   "metadata": {},
   "outputs": [],
   "source": [
    "from pyspark.ml.classification import DecisionTreeClassifier, RandomForestClassifier, GBTClassifier\n",
    "\n",
    "# Build the classifiers\n",
    "dt = DecisionTreeClassifier(labelCol=\"class\", featuresCol=\"features\")\n",
    "rf = RandomForestClassifier(labelCol=\"class\", featuresCol=\"features\")\n",
    "gbt = GBTClassifier(labelCol=\"class\", featuresCol=\"features\")"
   ]
  },
  {
   "cell_type": "code",
   "execution_count": 40,
   "id": "bf8877a5",
   "metadata": {},
   "outputs": [
    {
     "ename": "ConnectionRefusedError",
     "evalue": "[Errno 111] Connection refused",
     "output_type": "error",
     "traceback": [
      "\u001b[0;31m---------------------------------------------------------------------------\u001b[0m",
      "\u001b[0;31mConnectionRefusedError\u001b[0m                    Traceback (most recent call last)",
      "Cell \u001b[0;32mIn[40], line 1\u001b[0m\n\u001b[0;32m----> 1\u001b[0m model_dt \u001b[38;5;241m=\u001b[39m \u001b[43mdt\u001b[49m\u001b[38;5;241;43m.\u001b[39;49m\u001b[43mfit\u001b[49m\u001b[43m(\u001b[49m\u001b[43mdataset\u001b[49m\u001b[43m)\u001b[49m\n\u001b[1;32m      2\u001b[0m predictions_dt \u001b[38;5;241m=\u001b[39m model_dt\u001b[38;5;241m.\u001b[39mtransform(test_dataset)\n",
      "File \u001b[0;32m~/spark/python/pyspark/ml/base.py:205\u001b[0m, in \u001b[0;36mEstimator.fit\u001b[0;34m(self, dataset, params)\u001b[0m\n\u001b[1;32m    203\u001b[0m         \u001b[38;5;28;01mreturn\u001b[39;00m \u001b[38;5;28mself\u001b[39m\u001b[38;5;241m.\u001b[39mcopy(params)\u001b[38;5;241m.\u001b[39m_fit(dataset)\n\u001b[1;32m    204\u001b[0m     \u001b[38;5;28;01melse\u001b[39;00m:\n\u001b[0;32m--> 205\u001b[0m         \u001b[38;5;28;01mreturn\u001b[39;00m \u001b[38;5;28;43mself\u001b[39;49m\u001b[38;5;241;43m.\u001b[39;49m\u001b[43m_fit\u001b[49m\u001b[43m(\u001b[49m\u001b[43mdataset\u001b[49m\u001b[43m)\u001b[49m\n\u001b[1;32m    206\u001b[0m \u001b[38;5;28;01melse\u001b[39;00m:\n\u001b[1;32m    207\u001b[0m     \u001b[38;5;28;01mraise\u001b[39;00m \u001b[38;5;167;01mTypeError\u001b[39;00m(\n\u001b[1;32m    208\u001b[0m         \u001b[38;5;124m\"\u001b[39m\u001b[38;5;124mParams must be either a param map or a list/tuple of param maps, \u001b[39m\u001b[38;5;124m\"\u001b[39m\n\u001b[1;32m    209\u001b[0m         \u001b[38;5;124m\"\u001b[39m\u001b[38;5;124mbut got \u001b[39m\u001b[38;5;132;01m%s\u001b[39;00m\u001b[38;5;124m.\u001b[39m\u001b[38;5;124m\"\u001b[39m \u001b[38;5;241m%\u001b[39m \u001b[38;5;28mtype\u001b[39m(params)\n\u001b[1;32m    210\u001b[0m     )\n",
      "File \u001b[0;32m~/spark/python/pyspark/ml/wrapper.py:381\u001b[0m, in \u001b[0;36mJavaEstimator._fit\u001b[0;34m(self, dataset)\u001b[0m\n\u001b[1;32m    380\u001b[0m \u001b[38;5;28;01mdef\u001b[39;00m \u001b[38;5;21m_fit\u001b[39m(\u001b[38;5;28mself\u001b[39m, dataset: DataFrame) \u001b[38;5;241m-\u001b[39m\u001b[38;5;241m>\u001b[39m JM:\n\u001b[0;32m--> 381\u001b[0m     java_model \u001b[38;5;241m=\u001b[39m \u001b[38;5;28;43mself\u001b[39;49m\u001b[38;5;241;43m.\u001b[39;49m\u001b[43m_fit_java\u001b[49m\u001b[43m(\u001b[49m\u001b[43mdataset\u001b[49m\u001b[43m)\u001b[49m\n\u001b[1;32m    382\u001b[0m     model \u001b[38;5;241m=\u001b[39m \u001b[38;5;28mself\u001b[39m\u001b[38;5;241m.\u001b[39m_create_model(java_model)\n\u001b[1;32m    383\u001b[0m     \u001b[38;5;28;01mreturn\u001b[39;00m \u001b[38;5;28mself\u001b[39m\u001b[38;5;241m.\u001b[39m_copyValues(model)\n",
      "File \u001b[0;32m~/spark/python/pyspark/ml/wrapper.py:377\u001b[0m, in \u001b[0;36mJavaEstimator._fit_java\u001b[0;34m(self, dataset)\u001b[0m\n\u001b[1;32m    362\u001b[0m \u001b[38;5;250m\u001b[39m\u001b[38;5;124;03m\"\"\"\u001b[39;00m\n\u001b[1;32m    363\u001b[0m \u001b[38;5;124;03mFits a Java model to the input dataset.\u001b[39;00m\n\u001b[1;32m    364\u001b[0m \n\u001b[0;32m   (...)\u001b[0m\n\u001b[1;32m    373\u001b[0m \u001b[38;5;124;03m    fitted Java model\u001b[39;00m\n\u001b[1;32m    374\u001b[0m \u001b[38;5;124;03m\"\"\"\u001b[39;00m\n\u001b[1;32m    375\u001b[0m \u001b[38;5;28;01massert\u001b[39;00m \u001b[38;5;28mself\u001b[39m\u001b[38;5;241m.\u001b[39m_java_obj \u001b[38;5;129;01mis\u001b[39;00m \u001b[38;5;129;01mnot\u001b[39;00m \u001b[38;5;28;01mNone\u001b[39;00m\n\u001b[0;32m--> 377\u001b[0m \u001b[38;5;28;43mself\u001b[39;49m\u001b[38;5;241;43m.\u001b[39;49m\u001b[43m_transfer_params_to_java\u001b[49m\u001b[43m(\u001b[49m\u001b[43m)\u001b[49m\n\u001b[1;32m    378\u001b[0m \u001b[38;5;28;01mreturn\u001b[39;00m \u001b[38;5;28mself\u001b[39m\u001b[38;5;241m.\u001b[39m_java_obj\u001b[38;5;241m.\u001b[39mfit(dataset\u001b[38;5;241m.\u001b[39m_jdf)\n",
      "File \u001b[0;32m~/spark/python/pyspark/ml/wrapper.py:174\u001b[0m, in \u001b[0;36mJavaParams._transfer_params_to_java\u001b[0;34m(self)\u001b[0m\n\u001b[1;32m    172\u001b[0m         \u001b[38;5;28mself\u001b[39m\u001b[38;5;241m.\u001b[39m_java_obj\u001b[38;5;241m.\u001b[39mset(pair)\n\u001b[1;32m    173\u001b[0m     \u001b[38;5;28;01mif\u001b[39;00m \u001b[38;5;28mself\u001b[39m\u001b[38;5;241m.\u001b[39mhasDefault(param):\n\u001b[0;32m--> 174\u001b[0m         pair \u001b[38;5;241m=\u001b[39m \u001b[38;5;28;43mself\u001b[39;49m\u001b[38;5;241;43m.\u001b[39;49m\u001b[43m_make_java_param_pair\u001b[49m\u001b[43m(\u001b[49m\u001b[43mparam\u001b[49m\u001b[43m,\u001b[49m\u001b[43m \u001b[49m\u001b[38;5;28;43mself\u001b[39;49m\u001b[38;5;241;43m.\u001b[39;49m\u001b[43m_defaultParamMap\u001b[49m\u001b[43m[\u001b[49m\u001b[43mparam\u001b[49m\u001b[43m]\u001b[49m\u001b[43m)\u001b[49m\n\u001b[1;32m    175\u001b[0m         pair_defaults\u001b[38;5;241m.\u001b[39mappend(pair)\n\u001b[1;32m    176\u001b[0m \u001b[38;5;28;01mif\u001b[39;00m \u001b[38;5;28mlen\u001b[39m(pair_defaults) \u001b[38;5;241m>\u001b[39m \u001b[38;5;241m0\u001b[39m:\n",
      "File \u001b[0;32m~/spark/python/pyspark/ml/wrapper.py:158\u001b[0m, in \u001b[0;36mJavaParams._make_java_param_pair\u001b[0;34m(self, param, value)\u001b[0m\n\u001b[1;32m    155\u001b[0m \u001b[38;5;28;01massert\u001b[39;00m sc \u001b[38;5;129;01mis\u001b[39;00m \u001b[38;5;129;01mnot\u001b[39;00m \u001b[38;5;28;01mNone\u001b[39;00m \u001b[38;5;129;01mand\u001b[39;00m \u001b[38;5;28mself\u001b[39m\u001b[38;5;241m.\u001b[39m_java_obj \u001b[38;5;129;01mis\u001b[39;00m \u001b[38;5;129;01mnot\u001b[39;00m \u001b[38;5;28;01mNone\u001b[39;00m\n\u001b[1;32m    157\u001b[0m param \u001b[38;5;241m=\u001b[39m \u001b[38;5;28mself\u001b[39m\u001b[38;5;241m.\u001b[39m_resolveParam(param)\n\u001b[0;32m--> 158\u001b[0m java_param \u001b[38;5;241m=\u001b[39m \u001b[38;5;28;43mself\u001b[39;49m\u001b[38;5;241;43m.\u001b[39;49m\u001b[43m_java_obj\u001b[49m\u001b[38;5;241;43m.\u001b[39;49m\u001b[43mgetParam\u001b[49m\u001b[43m(\u001b[49m\u001b[43mparam\u001b[49m\u001b[38;5;241;43m.\u001b[39;49m\u001b[43mname\u001b[49m\u001b[43m)\u001b[49m\n\u001b[1;32m    159\u001b[0m java_value \u001b[38;5;241m=\u001b[39m _py2java(sc, value)\n\u001b[1;32m    160\u001b[0m \u001b[38;5;28;01mreturn\u001b[39;00m java_param\u001b[38;5;241m.\u001b[39mw(java_value)\n",
      "File \u001b[0;32m~/spark/python/lib/py4j-0.10.9.7-src.zip/py4j/java_gateway.py:1321\u001b[0m, in \u001b[0;36mJavaMember.__call__\u001b[0;34m(self, *args)\u001b[0m\n\u001b[1;32m   1314\u001b[0m args_command, temp_args \u001b[38;5;241m=\u001b[39m \u001b[38;5;28mself\u001b[39m\u001b[38;5;241m.\u001b[39m_build_args(\u001b[38;5;241m*\u001b[39margs)\n\u001b[1;32m   1316\u001b[0m command \u001b[38;5;241m=\u001b[39m proto\u001b[38;5;241m.\u001b[39mCALL_COMMAND_NAME \u001b[38;5;241m+\u001b[39m\\\n\u001b[1;32m   1317\u001b[0m     \u001b[38;5;28mself\u001b[39m\u001b[38;5;241m.\u001b[39mcommand_header \u001b[38;5;241m+\u001b[39m\\\n\u001b[1;32m   1318\u001b[0m     args_command \u001b[38;5;241m+\u001b[39m\\\n\u001b[1;32m   1319\u001b[0m     proto\u001b[38;5;241m.\u001b[39mEND_COMMAND_PART\n\u001b[0;32m-> 1321\u001b[0m answer \u001b[38;5;241m=\u001b[39m \u001b[38;5;28;43mself\u001b[39;49m\u001b[38;5;241;43m.\u001b[39;49m\u001b[43mgateway_client\u001b[49m\u001b[38;5;241;43m.\u001b[39;49m\u001b[43msend_command\u001b[49m\u001b[43m(\u001b[49m\u001b[43mcommand\u001b[49m\u001b[43m)\u001b[49m\n\u001b[1;32m   1322\u001b[0m return_value \u001b[38;5;241m=\u001b[39m get_return_value(\n\u001b[1;32m   1323\u001b[0m     answer, \u001b[38;5;28mself\u001b[39m\u001b[38;5;241m.\u001b[39mgateway_client, \u001b[38;5;28mself\u001b[39m\u001b[38;5;241m.\u001b[39mtarget_id, \u001b[38;5;28mself\u001b[39m\u001b[38;5;241m.\u001b[39mname)\n\u001b[1;32m   1325\u001b[0m \u001b[38;5;28;01mfor\u001b[39;00m temp_arg \u001b[38;5;129;01min\u001b[39;00m temp_args:\n",
      "File \u001b[0;32m~/spark/python/lib/py4j-0.10.9.7-src.zip/py4j/java_gateway.py:1036\u001b[0m, in \u001b[0;36mGatewayClient.send_command\u001b[0;34m(self, command, retry, binary)\u001b[0m\n\u001b[1;32m   1015\u001b[0m \u001b[38;5;28;01mdef\u001b[39;00m \u001b[38;5;21msend_command\u001b[39m(\u001b[38;5;28mself\u001b[39m, command, retry\u001b[38;5;241m=\u001b[39m\u001b[38;5;28;01mTrue\u001b[39;00m, binary\u001b[38;5;241m=\u001b[39m\u001b[38;5;28;01mFalse\u001b[39;00m):\n\u001b[1;32m   1016\u001b[0m \u001b[38;5;250m    \u001b[39m\u001b[38;5;124;03m\"\"\"Sends a command to the JVM. This method is not intended to be\u001b[39;00m\n\u001b[1;32m   1017\u001b[0m \u001b[38;5;124;03m       called directly by Py4J users. It is usually called by\u001b[39;00m\n\u001b[1;32m   1018\u001b[0m \u001b[38;5;124;03m       :class:`JavaMember` instances.\u001b[39;00m\n\u001b[0;32m   (...)\u001b[0m\n\u001b[1;32m   1034\u001b[0m \u001b[38;5;124;03m     if `binary` is `True`.\u001b[39;00m\n\u001b[1;32m   1035\u001b[0m \u001b[38;5;124;03m    \"\"\"\u001b[39;00m\n\u001b[0;32m-> 1036\u001b[0m     connection \u001b[38;5;241m=\u001b[39m \u001b[38;5;28;43mself\u001b[39;49m\u001b[38;5;241;43m.\u001b[39;49m\u001b[43m_get_connection\u001b[49m\u001b[43m(\u001b[49m\u001b[43m)\u001b[49m\n\u001b[1;32m   1037\u001b[0m     \u001b[38;5;28;01mtry\u001b[39;00m:\n\u001b[1;32m   1038\u001b[0m         response \u001b[38;5;241m=\u001b[39m connection\u001b[38;5;241m.\u001b[39msend_command(command)\n",
      "File \u001b[0;32m~/spark/python/lib/py4j-0.10.9.7-src.zip/py4j/clientserver.py:284\u001b[0m, in \u001b[0;36mJavaClient._get_connection\u001b[0;34m(self)\u001b[0m\n\u001b[1;32m    281\u001b[0m     \u001b[38;5;28;01mpass\u001b[39;00m\n\u001b[1;32m    283\u001b[0m \u001b[38;5;28;01mif\u001b[39;00m connection \u001b[38;5;129;01mis\u001b[39;00m \u001b[38;5;28;01mNone\u001b[39;00m \u001b[38;5;129;01mor\u001b[39;00m connection\u001b[38;5;241m.\u001b[39msocket \u001b[38;5;129;01mis\u001b[39;00m \u001b[38;5;28;01mNone\u001b[39;00m:\n\u001b[0;32m--> 284\u001b[0m     connection \u001b[38;5;241m=\u001b[39m \u001b[38;5;28;43mself\u001b[39;49m\u001b[38;5;241;43m.\u001b[39;49m\u001b[43m_create_new_connection\u001b[49m\u001b[43m(\u001b[49m\u001b[43m)\u001b[49m\n\u001b[1;32m    285\u001b[0m \u001b[38;5;28;01mreturn\u001b[39;00m connection\n",
      "File \u001b[0;32m~/spark/python/lib/py4j-0.10.9.7-src.zip/py4j/clientserver.py:291\u001b[0m, in \u001b[0;36mJavaClient._create_new_connection\u001b[0;34m(self)\u001b[0m\n\u001b[1;32m    287\u001b[0m \u001b[38;5;28;01mdef\u001b[39;00m \u001b[38;5;21m_create_new_connection\u001b[39m(\u001b[38;5;28mself\u001b[39m):\n\u001b[1;32m    288\u001b[0m     connection \u001b[38;5;241m=\u001b[39m ClientServerConnection(\n\u001b[1;32m    289\u001b[0m         \u001b[38;5;28mself\u001b[39m\u001b[38;5;241m.\u001b[39mjava_parameters, \u001b[38;5;28mself\u001b[39m\u001b[38;5;241m.\u001b[39mpython_parameters,\n\u001b[1;32m    290\u001b[0m         \u001b[38;5;28mself\u001b[39m\u001b[38;5;241m.\u001b[39mgateway_property, \u001b[38;5;28mself\u001b[39m)\n\u001b[0;32m--> 291\u001b[0m     \u001b[43mconnection\u001b[49m\u001b[38;5;241;43m.\u001b[39;49m\u001b[43mconnect_to_java_server\u001b[49m\u001b[43m(\u001b[49m\u001b[43m)\u001b[49m\n\u001b[1;32m    292\u001b[0m     \u001b[38;5;28mself\u001b[39m\u001b[38;5;241m.\u001b[39mset_thread_connection(connection)\n\u001b[1;32m    293\u001b[0m     \u001b[38;5;28;01mreturn\u001b[39;00m connection\n",
      "File \u001b[0;32m~/spark/python/lib/py4j-0.10.9.7-src.zip/py4j/clientserver.py:438\u001b[0m, in \u001b[0;36mClientServerConnection.connect_to_java_server\u001b[0;34m(self)\u001b[0m\n\u001b[1;32m    435\u001b[0m \u001b[38;5;28;01mif\u001b[39;00m \u001b[38;5;28mself\u001b[39m\u001b[38;5;241m.\u001b[39mssl_context:\n\u001b[1;32m    436\u001b[0m     \u001b[38;5;28mself\u001b[39m\u001b[38;5;241m.\u001b[39msocket \u001b[38;5;241m=\u001b[39m \u001b[38;5;28mself\u001b[39m\u001b[38;5;241m.\u001b[39mssl_context\u001b[38;5;241m.\u001b[39mwrap_socket(\n\u001b[1;32m    437\u001b[0m         \u001b[38;5;28mself\u001b[39m\u001b[38;5;241m.\u001b[39msocket, server_hostname\u001b[38;5;241m=\u001b[39m\u001b[38;5;28mself\u001b[39m\u001b[38;5;241m.\u001b[39mjava_address)\n\u001b[0;32m--> 438\u001b[0m \u001b[38;5;28;43mself\u001b[39;49m\u001b[38;5;241;43m.\u001b[39;49m\u001b[43msocket\u001b[49m\u001b[38;5;241;43m.\u001b[39;49m\u001b[43mconnect\u001b[49m\u001b[43m(\u001b[49m\u001b[43m(\u001b[49m\u001b[38;5;28;43mself\u001b[39;49m\u001b[38;5;241;43m.\u001b[39;49m\u001b[43mjava_address\u001b[49m\u001b[43m,\u001b[49m\u001b[43m \u001b[49m\u001b[38;5;28;43mself\u001b[39;49m\u001b[38;5;241;43m.\u001b[39;49m\u001b[43mjava_port\u001b[49m\u001b[43m)\u001b[49m\u001b[43m)\u001b[49m\n\u001b[1;32m    439\u001b[0m \u001b[38;5;28mself\u001b[39m\u001b[38;5;241m.\u001b[39mstream \u001b[38;5;241m=\u001b[39m \u001b[38;5;28mself\u001b[39m\u001b[38;5;241m.\u001b[39msocket\u001b[38;5;241m.\u001b[39mmakefile(\u001b[38;5;124m\"\u001b[39m\u001b[38;5;124mrb\u001b[39m\u001b[38;5;124m\"\u001b[39m)\n\u001b[1;32m    440\u001b[0m \u001b[38;5;28mself\u001b[39m\u001b[38;5;241m.\u001b[39mis_connected \u001b[38;5;241m=\u001b[39m \u001b[38;5;28;01mTrue\u001b[39;00m\n",
      "\u001b[0;31mConnectionRefusedError\u001b[0m: [Errno 111] Connection refused"
     ]
    }
   ],
   "source": [
    "model_dt = dt.fit(dataset)\n",
    "predictions_dt = model_dt.transform(test_dataset)"
   ]
  },
  {
   "cell_type": "code",
   "execution_count": null,
   "id": "7b3ae3f4",
   "metadata": {},
   "outputs": [],
   "source": [
    "from pyspark.ml.evaluation import MulticlassClassificationEvaluator, BinaryClassificationEvaluator\n",
    "evaluator = MulticlassClassificationEvaluator(labelCol=\"class\", predictionCol=\"prediction\", metricName=\"accuracy\")\n",
    "accuracy = evaluator.evaluate(predictions_dt)\n",
    "\n",
    "print(\"Test Accuracy = \", accuracy)"
   ]
  },
  {
   "cell_type": "code",
   "execution_count": null,
   "id": "182ba8e5",
   "metadata": {},
   "outputs": [],
   "source": [
    "model_rf = rf.fit(dataset)\n",
    "predictions_rf = model_rf.transform(test_dataset)"
   ]
  },
  {
   "cell_type": "code",
   "execution_count": null,
   "id": "3ef73759",
   "metadata": {},
   "outputs": [],
   "source": [
    "# Compute the accuracy on the test data\n",
    "from pyspark.ml.evaluation import MulticlassClassificationEvaluator, BinaryClassificationEvaluator\n",
    "evaluator = MulticlassClassificationEvaluator(labelCol=\"class\", predictionCol=\"prediction\", metricName=\"accuracy\")\n",
    "accuracy = evaluator.evaluate(predictions_rf)\n",
    "\n",
    "print(\"Test Accuracy = \", accuracy)"
   ]
  },
  {
   "cell_type": "code",
   "execution_count": null,
   "id": "29088405",
   "metadata": {},
   "outputs": [],
   "source": [
    "model_gbt = gbt.fit(dataset)\n",
    "predictions_gbt = model_gbt.transform(dataset)\n"
   ]
  },
  {
   "cell_type": "code",
   "execution_count": null,
   "id": "67be7021",
   "metadata": {},
   "outputs": [],
   "source": [
    "# Compute the accuracy on the test data\n",
    "from pyspark.ml.evaluation import MulticlassClassificationEvaluator, BinaryClassificationEvaluator\n",
    "evaluator = MulticlassClassificationEvaluator(labelCol=\"class\", predictionCol=\"prediction\", metricName=\"accuracy\")\n",
    "accuracy = evaluator.evaluate(predictions_rf)\n",
    "\n",
    "print(\"Test Accuracy = \", accuracy)"
   ]
  },
  {
   "cell_type": "code",
   "execution_count": null,
   "id": "42cd95e0",
   "metadata": {},
   "outputs": [],
   "source": [
    "## 7.2 Visualize "
   ]
  },
  {
   "cell_type": "code",
   "execution_count": null,
   "id": "fee7f847",
   "metadata": {},
   "outputs": [],
   "source": [
    "import matplotlib.pyplot as plt\n",
    "import numpy as np\n",
    "\n",
    "custom_input_accuracies = [0.7936, 0.7836, 0.7883]\n",
    "custom_input_labels = ['GBT', 'RF', 'DT']\n",
    "\n",
    "review_text_accuracies = [0.8984, 0.9067, 0.7506, 0.8192]\n",
    "review_text_labels = ['LR', 'GBT', 'RF', 'DT']\n",
    "\n",
    "labels = list(set(custom_input_labels + review_text_labels))\n",
    "\n",
    "custom_input_accuracies = [custom_input_accuracies[custom_input_labels.index(l)] if l in custom_input_labels else 0 for l in labels]\n",
    "review_text_accuracies = [review_text_accuracies[review_text_labels.index(l)] if l in review_text_labels else 0 for l in labels]\n",
    "\n",
    "x = np.arange(len(labels))  # the label locations\n",
    "width = 0.35  # the width of the bars\n",
    "\n",
    "fig, ax = plt.subplots(figsize=(12, 8))\n",
    "\n",
    "rects1 = ax.bar(x - width/2, custom_input_accuracies, width, label='Custom Input')\n",
    "rects2 = ax.bar(x + width/2, review_text_accuracies, width, label='Review Text')\n",
    "\n",
    "# Add some text for labels, title and custom x-axis tick labels, etc.\n",
    "ax.set_ylabel('Accuracy')\n",
    "ax.set_title('Model Accuracies by Input Type')\n",
    "ax.set_xticks(x)\n",
    "ax.set_xticklabels(labels)\n",
    "ax.legend()\n",
    "\n",
    "ax.bar_label(rects1, padding=3)\n",
    "ax.bar_label(rects2, padding=3)\n",
    "\n",
    "fig.tight_layout()\n",
    "\n",
    "plt.show()\n",
    "\n",
    "# Separate bar chart for LR model's additional metrics\n",
    "lr_metrics = [0.8984, 0.8953, 0.9401]\n",
    "lr_metric_labels = ['Accuracy', 'F1-Score', 'Area under ROC']\n",
    "\n",
    "colors = ['skyblue', 'pink', 'lightgreen']\n",
    "\n",
    "fig, ax = plt.subplots(figsize=(12, 8))\n",
    "\n",
    "ax.barh(lr_metric_labels, lr_metrics, color=colors)\n",
    "ax.set_title('Logistic Regression Metrics')\n",
    "ax.set_xlabel('Value')\n",
    "ax.set_ylabel('Metric')\n",
    "\n",
    "# Show values on bars\n",
    "for i, v in enumerate(ax.patches):\n",
    "    ax.text(v.get_width(), v.get_y() + v.get_height() / 2, \n",
    "             str(round(lr_metrics[i], 4)), \n",
    "             fontsize=10, ha='center', va='center')\n",
    "\n",
    "plt.show()\n"
   ]
  },
  {
   "cell_type": "code",
   "execution_count": null,
   "id": "38557258",
   "metadata": {},
   "outputs": [],
   "source": [
    "spark.stop()"
   ]
  }
 ],
 "metadata": {
  "kernelspec": {
   "display_name": "Python 3 (ipykernel)",
   "language": "python",
   "name": "python3"
  },
  "language_info": {
   "codemirror_mode": {
    "name": "ipython",
    "version": 3
   },
   "file_extension": ".py",
   "mimetype": "text/x-python",
   "name": "python",
   "nbconvert_exporter": "python",
   "pygments_lexer": "ipython3",
   "version": "3.12.3"
  }
 },
 "nbformat": 4,
 "nbformat_minor": 5
}
